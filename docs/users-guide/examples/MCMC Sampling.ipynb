{
 "cells": [
  {
   "cell_type": "markdown",
   "metadata": {},
   "source": [
    "# MCMC Sampling"
   ]
  },
  {
   "cell_type": "markdown",
   "metadata": {},
   "source": [
    "## Overview\n",
    "\n",
    "Stan's MCMC sampler implements the Hamiltonian Monte Carlo (HMC) algorithm and its adaptive variant\n",
    "the no-U-turn sampler (NUTS).\n",
    "It creates a set of draws from the posterior distribution of the model conditioned on the data,\n",
    "allowing for exact Bayesian inference of the model parameters.\n",
    "Each draw consists of the values for all parameter, transformed parameter, and\n",
    "generated quantities variables, reported on the constrained scale.\n",
    "\n",
    "The [CmdStanModel sample](https://mc-stan.org/cmdstanpy/api.html#cmdstanpy.CmdStanModel.sample) method\n",
    "wraps the CmdStan [sample](https://mc-stan.org/docs/cmdstan-guide/mcmc-config.html) method.\n",
    "Underlyingly, the CmdStan outputs are a set of per-chain Stan CSV files.\n",
    "In addition to the resulting sample, reported as one row per draw,\n",
    "the Stan CSV files encode information about the inference engine configuration\n",
    "and the sampler state.\n",
    "The NUTS-HMC adaptive sampler algorithm also outputs the per-chain\n",
    "HMC tuning parameters `step_size` and `metric`.\n",
    "\n",
    "The `sample` method returns a [CmdStanMCMC](https://mc-stan.org/cmdstanpy/api.html#cmdstanmcmc) object,\n",
    "which provides access to the disparate information from the Stan CSV files.\n",
    "Accessor functions allow the user\n",
    "to access the sample in whatever data format is needed for further analysis,\n",
    "either as tabular data (i.e., in terms of the per-chain CSV file rows and columns),\n",
    "or as structured objects which correspond to the variables in the Stan model\n",
    "and the individual diagnostics produced by the inference method.\n",
    "\n",
    "\n",
    "- The [stan_variable](https://mc-stan.org/cmdstanpy/api.html#cmdstanpy.CmdStanMCMC.stan_variable) and\n",
    "[stan_variables](https://mc-stan.org/cmdstanpy/api.html#cmdstanpy.CmdStanMCMC.stan_variables) methods \n",
    "return a Python [numpy.ndarray](https://numpy.org/doc/stable/reference/generated/numpy.ndarray.html#numpy.ndarray)\n",
    "containing all draws from the sample where the structure of each draw corresponds to the structure of the\n",
    "Stan variable.\n",
    "\n",
    "- The [draws](https://mc-stan.org/cmdstanpy/api.html#cmdstanpy.CmdStanMCMC.draws) method returns the sample as either a 2-D or 3-D numpy.ndarray.\n",
    "\n",
    "- The [draws_pd](https://mc-stan.org/cmdstanpy/api.html#cmdstanpy.CmdStanMCMC.draws) method returns the entire sample or selected variables as a pandas.DataFrame.\n",
    "\n",
    "- The [draws_xr](https://mc-stan.org/cmdstanpy/api.html#cmdstanpy.CmdStanMCMC.draws_xr) method returns a structured Xarray dataset over the Stan model variables.\n",
    "\n",
    "- The [method_variables](https://mc-stan.org/cmdstanpy/api.html#cmdstanpy.CmdStanMCMC.method_variables) returns a\n",
    "Python dict over all sampler method variables.\n",
    "\n",
    "\n",
    "In addition, the `CmdStanMCMC` object has accessor methods for\n",
    "\n",
    "- The per-chain HMC tuning parameters `step_size` and `metric` \n",
    "\n",
    "- The CmdStan run configuration and console outputs\n",
    "\n",
    "- The mapping between the Stan model variables and the corresponding CSV file columns."
   ]
  },
  {
   "cell_type": "markdown",
   "metadata": {},
   "source": [
    "### Notebook prerequisites\n",
    "\n",
    "\n",
    "CmdStanPy displays progress bars during sampling via use of package [tqdm](https://github.com/tqdm/tqdm).\n",
    "In order for these to display properly in a Jupyter notebook, you must have the \n",
    "[ipywidgets](https://ipywidgets.readthedocs.io/en/latest/index.html) package installed,\n",
    "and depending on your version of Jupyter or JupyterLab, you must enable it via command:"
   ]
  },
  {
   "cell_type": "code",
   "execution_count": 1,
   "metadata": {
    "execution": {
     "iopub.execute_input": "2022-08-22T15:37:47.194964Z",
     "iopub.status.busy": "2022-08-22T15:37:47.194285Z",
     "iopub.status.idle": "2022-08-22T15:37:47.404773Z",
     "shell.execute_reply": "2022-08-22T15:37:47.403636Z"
    }
   },
   "outputs": [
    {
     "name": "stdout",
     "output_type": "stream",
     "text": [
      "usage: jupyter [-h] [--version] [--config-dir] [--data-dir] [--runtime-dir]\r\n",
      "               [--paths] [--json] [--debug]\r\n",
      "               [subcommand]\r\n",
      "\r\n",
      "Jupyter: Interactive Computing\r\n",
      "\r\n",
      "positional arguments:\r\n",
      "  subcommand     the subcommand to launch\r\n",
      "\r\n",
      "optional arguments:\r\n",
      "  -h, --help     show this help message and exit\r\n",
      "  --version      show the versions of core jupyter packages and exit\r\n",
      "  --config-dir   show Jupyter config dir\r\n",
      "  --data-dir     show Jupyter data dir\r\n",
      "  --runtime-dir  show Jupyter runtime dir\r\n",
      "  --paths        show all Jupyter paths. Add --json for machine-readable\r\n",
      "                 format.\r\n",
      "  --json         output paths as machine-readable json\r\n",
      "  --debug        output debug information about paths\r\n",
      "\r\n",
      "Available subcommands: dejavu execute kernel kernelspec migrate nbconvert run\r\n",
      "troubleshoot trust\r\n",
      "\r\n",
      "Jupyter command `jupyter-nbextension` not found.\r\n"
     ]
    }
   ],
   "source": [
    "!jupyter nbextension enable --py widgetsnbextension"
   ]
  },
  {
   "cell_type": "markdown",
   "metadata": {},
   "source": [
    "For more information, see the the\n",
    "[installation instructions](https://ipywidgets.readthedocs.io/en/latest/user_install.html#), \n",
    "also [this tqdm GitHub issue](https://github.com/tqdm/tqdm/issues/394#issuecomment-384743637).\n",
    "\n",
    "\n",
    "    "
   ]
  },
  {
   "cell_type": "markdown",
   "metadata": {},
   "source": [
    "## Fitting the model and data\n",
    "\n",
    "In this example we use the CmdStan example model\n",
    "[bernoulli.stan](https://github.com/stan-dev/cmdstanpy/blob/master/test/data/bernoulli.stan)\n",
    "and data file\n",
    "[bernoulli.data.json](https://github.com/stan-dev/cmdstanpy/blob/master/test/data/bernoulli.data.json>).\n",
    "\n",
    "We instantiate a `CmdStanModel` from the Stan program file"
   ]
  },
  {
   "cell_type": "code",
   "execution_count": 2,
   "metadata": {
    "execution": {
     "iopub.execute_input": "2022-08-22T15:37:47.410079Z",
     "iopub.status.busy": "2022-08-22T15:37:47.409174Z",
     "iopub.status.idle": "2022-08-22T15:37:56.474945Z",
     "shell.execute_reply": "2022-08-22T15:37:56.473885Z"
    }
   },
   "outputs": [
    {
     "name": "stderr",
     "output_type": "stream",
     "text": [
      "/opt/hostedtoolcache/Python/3.9.13/x64/lib/python3.9/site-packages/tqdm/auto.py:22: TqdmWarning: IProgress not found. Please update jupyter and ipywidgets. See https://ipywidgets.readthedocs.io/en/stable/user_install.html\n",
      "  from .autonotebook import tqdm as notebook_tqdm\n"
     ]
    },
    {
     "name": "stderr",
     "output_type": "stream",
     "text": [
      "15:37:47 - cmdstanpy - INFO - compiling stan file /home/runner/work/cmdstanpy/cmdstanpy/docsrc/users-guide/examples/bernoulli.stan to exe file /home/runner/work/cmdstanpy/cmdstanpy/docsrc/users-guide/examples/bernoulli\n"
     ]
    },
    {
     "name": "stderr",
     "output_type": "stream",
     "text": [
      "15:37:56 - cmdstanpy - INFO - compiled model executable: /home/runner/work/cmdstanpy/cmdstanpy/docsrc/users-guide/examples/bernoulli\n"
     ]
    }
   ],
   "source": [
    "import os\n",
    "from cmdstanpy import CmdStanModel\n",
    "\n",
    "# instantiate, compile bernoulli model\n",
    "model = CmdStanModel(stan_file='bernoulli.stan')"
   ]
  },
  {
   "cell_type": "markdown",
   "metadata": {},
   "source": [
    "By default, the model is compiled during instantiation.  The compiled executable is created in the same directory as the program file.  If the directory already contains an executable file with a newer timestamp, the model is not recompiled.\n",
    "\n",
    "We run the sampler on the data using all default settings:  4 chains, each of which runs 1000 warmup and sampling iterations."
   ]
  },
  {
   "cell_type": "code",
   "execution_count": 3,
   "metadata": {
    "execution": {
     "iopub.execute_input": "2022-08-22T15:37:56.479178Z",
     "iopub.status.busy": "2022-08-22T15:37:56.478718Z",
     "iopub.status.idle": "2022-08-22T15:37:56.622926Z",
     "shell.execute_reply": "2022-08-22T15:37:56.621459Z"
    }
   },
   "outputs": [
    {
     "name": "stderr",
     "output_type": "stream",
     "text": [
      "15:37:56 - cmdstanpy - INFO - CmdStan start processing\n"
     ]
    },
    {
     "name": "stderr",
     "output_type": "stream",
     "text": [
      "\r",
      "chain 1 |\u001b[33m          \u001b[0m| 00:00 Status"
     ]
    },
    {
     "name": "stderr",
     "output_type": "stream",
     "text": [
      "\n"
     ]
    },
    {
     "name": "stderr",
     "output_type": "stream",
     "text": [
      "\r",
      "chain 2 |\u001b[33m          \u001b[0m| 00:00 Status"
     ]
    },
    {
     "name": "stderr",
     "output_type": "stream",
     "text": [
      "\u001b[A"
     ]
    },
    {
     "name": "stderr",
     "output_type": "stream",
     "text": [
      "\n",
      "\n"
     ]
    },
    {
     "name": "stderr",
     "output_type": "stream",
     "text": [
      "\r",
      "chain 3 |\u001b[33m          \u001b[0m| 00:00 Status"
     ]
    },
    {
     "name": "stderr",
     "output_type": "stream",
     "text": [
      "\u001b[A\u001b[A"
     ]
    },
    {
     "name": "stderr",
     "output_type": "stream",
     "text": [
      "\n",
      "\n",
      "\n"
     ]
    },
    {
     "name": "stderr",
     "output_type": "stream",
     "text": [
      "\r",
      "chain 4 |\u001b[33m          \u001b[0m| 00:00 Status"
     ]
    },
    {
     "name": "stderr",
     "output_type": "stream",
     "text": [
      "\u001b[A\u001b[A\u001b[A"
     ]
    },
    {
     "name": "stderr",
     "output_type": "stream",
     "text": [
      "\r",
      "chain 1 |\u001b[34m██████████\u001b[0m| 00:00 Sampling completed"
     ]
    },
    {
     "name": "stderr",
     "output_type": "stream",
     "text": [
      "\n",
      "\r",
      "chain 2 |\u001b[34m██████████\u001b[0m| 00:00 Sampling completed"
     ]
    },
    {
     "name": "stderr",
     "output_type": "stream",
     "text": [
      "\n",
      "\r",
      "chain 3 |\u001b[34m██████████\u001b[0m| 00:00 Sampling completed"
     ]
    },
    {
     "name": "stderr",
     "output_type": "stream",
     "text": [
      "\n",
      "\r",
      "chain 4 |\u001b[34m██████████\u001b[0m| 00:00 Sampling completed"
     ]
    },
    {
     "name": "stdout",
     "output_type": "stream",
     "text": [
      "                                                                                "
     ]
    },
    {
     "name": "stdout",
     "output_type": "stream",
     "text": [
      "                                                                                "
     ]
    },
    {
     "name": "stdout",
     "output_type": "stream",
     "text": [
      "                                                                                "
     ]
    },
    {
     "name": "stdout",
     "output_type": "stream",
     "text": [
      "                                                                                "
     ]
    },
    {
     "name": "stderr",
     "output_type": "stream",
     "text": [
      "\n",
      "15:37:56 - cmdstanpy - INFO - CmdStan done processing.\n"
     ]
    },
    {
     "name": "stdout",
     "output_type": "stream",
     "text": [
      "\n"
     ]
    }
   ],
   "source": [
    "# run CmdStan's sample method, returns object `CmdStanMCMC`\n",
    "fit = model.sample(data='bernoulli.data.json')"
   ]
  },
  {
   "cell_type": "markdown",
   "metadata": {},
   "source": [
    "The `CmdStanMCMC` object records the command, the return code, and the paths to the sampler output csv and console files.  The sample is lazily instantiated on first access of either the draws or the HMC tuning parameters, i.e., the step size and metric.\n",
    "\n",
    "The string representation of this object displays the CmdStan commands and the location of the output files.\n",
    "Output filenames are composed of the model name, a timestamp in the form YYYYMMDDhhmmss and the chain id, plus the corresponding filetype suffix, either '.csv' for the CmdStan output or '.txt' for the console messages, e.g. bernoulli-20220617170100_1.csv."
   ]
  },
  {
   "cell_type": "code",
   "execution_count": 4,
   "metadata": {
    "execution": {
     "iopub.execute_input": "2022-08-22T15:37:56.627153Z",
     "iopub.status.busy": "2022-08-22T15:37:56.626858Z",
     "iopub.status.idle": "2022-08-22T15:37:56.639048Z",
     "shell.execute_reply": "2022-08-22T15:37:56.637233Z"
    },
    "scrolled": true
   },
   "outputs": [
    {
     "data": {
      "text/plain": [
       "CmdStanMCMC: model=bernoulli chains=4['method=sample', 'algorithm=hmc', 'adapt', 'engaged=1']\n",
       " csv_files:\n",
       "\t/tmp/tmpq5qkow4o/bernoulli516vtcwv/bernoulli-20220822153756_1.csv\n",
       "\t/tmp/tmpq5qkow4o/bernoulli516vtcwv/bernoulli-20220822153756_2.csv\n",
       "\t/tmp/tmpq5qkow4o/bernoulli516vtcwv/bernoulli-20220822153756_3.csv\n",
       "\t/tmp/tmpq5qkow4o/bernoulli516vtcwv/bernoulli-20220822153756_4.csv\n",
       " output_files:\n",
       "\t/tmp/tmpq5qkow4o/bernoulli516vtcwv/bernoulli-20220822153756_0-stdout.txt\n",
       "\t/tmp/tmpq5qkow4o/bernoulli516vtcwv/bernoulli-20220822153756_1-stdout.txt\n",
       "\t/tmp/tmpq5qkow4o/bernoulli516vtcwv/bernoulli-20220822153756_2-stdout.txt\n",
       "\t/tmp/tmpq5qkow4o/bernoulli516vtcwv/bernoulli-20220822153756_3-stdout.txt"
      ]
     },
     "execution_count": 4,
     "metadata": {},
     "output_type": "execute_result"
    }
   ],
   "source": [
    "fit"
   ]
  },
  {
   "cell_type": "code",
   "execution_count": 5,
   "metadata": {
    "execution": {
     "iopub.execute_input": "2022-08-22T15:37:56.645983Z",
     "iopub.status.busy": "2022-08-22T15:37:56.645522Z",
     "iopub.status.idle": "2022-08-22T15:37:56.665781Z",
     "shell.execute_reply": "2022-08-22T15:37:56.664953Z"
    }
   },
   "outputs": [
    {
     "name": "stdout",
     "output_type": "stream",
     "text": [
      "draws as array:  (1000, 4, 8)\n",
      "draws as structured object:\n",
      "\tdict_keys(['theta'])\n",
      "sampler diagnostics:\n",
      "\tdict_keys(['lp__', 'accept_stat__', 'stepsize__', 'treedepth__', 'n_leapfrog__', 'divergent__', 'energy__'])\n"
     ]
    }
   ],
   "source": [
    "print(f'draws as array:  {fit.draws().shape}')\n",
    "print(f'draws as structured object:\\n\\t{fit.stan_variables().keys()}')\n",
    "print(f'sampler diagnostics:\\n\\t{fit.method_variables().keys()}')"
   ]
  },
  {
   "cell_type": "markdown",
   "metadata": {},
   "source": [
    "### Sampler Progress\n",
    "\n",
    "Your model make take a long time to fit.  The `sample` method provides two arguments:\n",
    "    \n",
    "- visual progress bar:  `show_progress=True`\n",
    "- stream CmdStan output to the console - `show_console=True`\n",
    "\n",
    "By default, CmdStanPy displays a progress bar during sampling, as seen above.\n",
    "Since the progress bars are only visible while the sampler is running and the bernoulli example model takes no time at all to fit, we run this model for 200K iterations, in order to see the progress bars in action."
   ]
  },
  {
   "cell_type": "code",
   "execution_count": 6,
   "metadata": {
    "execution": {
     "iopub.execute_input": "2022-08-22T15:37:56.669356Z",
     "iopub.status.busy": "2022-08-22T15:37:56.668923Z",
     "iopub.status.idle": "2022-08-22T15:38:02.257590Z",
     "shell.execute_reply": "2022-08-22T15:38:02.256646Z"
    }
   },
   "outputs": [
    {
     "name": "stderr",
     "output_type": "stream",
     "text": [
      "15:37:56 - cmdstanpy - INFO - CmdStan start processing\n"
     ]
    },
    {
     "name": "stderr",
     "output_type": "stream",
     "text": [
      "\r",
      "chain 1 |\u001b[33m          \u001b[0m| 00:00 Status"
     ]
    },
    {
     "name": "stderr",
     "output_type": "stream",
     "text": [
      "\n"
     ]
    },
    {
     "name": "stderr",
     "output_type": "stream",
     "text": [
      "\r",
      "chain 2 |\u001b[33m          \u001b[0m| 00:00 Status"
     ]
    },
    {
     "name": "stderr",
     "output_type": "stream",
     "text": [
      "\u001b[A"
     ]
    },
    {
     "name": "stderr",
     "output_type": "stream",
     "text": [
      "\n",
      "\n"
     ]
    },
    {
     "name": "stderr",
     "output_type": "stream",
     "text": [
      "\r",
      "chain 3 |\u001b[33m          \u001b[0m| 00:00 Status"
     ]
    },
    {
     "name": "stderr",
     "output_type": "stream",
     "text": [
      "\u001b[A\u001b[A"
     ]
    },
    {
     "name": "stderr",
     "output_type": "stream",
     "text": [
      "\n",
      "\n",
      "\n"
     ]
    },
    {
     "name": "stderr",
     "output_type": "stream",
     "text": [
      "\r",
      "chain 4 |\u001b[33m          \u001b[0m| 00:00 Status"
     ]
    },
    {
     "name": "stderr",
     "output_type": "stream",
     "text": [
      "\u001b[A\u001b[A\u001b[A"
     ]
    },
    {
     "name": "stderr",
     "output_type": "stream",
     "text": [
      "\r",
      "chain 1 |\u001b[33m█         \u001b[0m| 00:00 Iteration:  20400 / 200000 [ 10%]  (Warmup)"
     ]
    },
    {
     "name": "stderr",
     "output_type": "stream",
     "text": [
      "\n"
     ]
    },
    {
     "name": "stderr",
     "output_type": "stream",
     "text": [
      "\r",
      "chain 2 |\u001b[33m▊         \u001b[0m| 00:00 Iteration:  17100 / 200000 [  8%]  (Warmup)"
     ]
    },
    {
     "name": "stderr",
     "output_type": "stream",
     "text": [
      "\u001b[A"
     ]
    },
    {
     "name": "stderr",
     "output_type": "stream",
     "text": [
      "\r",
      "chain 1 |\u001b[33m██▏       \u001b[0m| 00:00 Iteration:  43600 / 200000 [ 21%]  (Warmup)"
     ]
    },
    {
     "name": "stderr",
     "output_type": "stream",
     "text": [
      "\n"
     ]
    },
    {
     "name": "stderr",
     "output_type": "stream",
     "text": [
      "\r",
      "chain 2 |\u001b[33m██        \u001b[0m| 00:00 Iteration:  40400 / 200000 [ 20%]  (Warmup)"
     ]
    },
    {
     "name": "stderr",
     "output_type": "stream",
     "text": [
      "\u001b[A"
     ]
    },
    {
     "name": "stderr",
     "output_type": "stream",
     "text": [
      "\r",
      "chain 1 |\u001b[33m███▎      \u001b[0m| 00:00 Iteration:  67000 / 200000 [ 33%]  (Warmup)"
     ]
    },
    {
     "name": "stderr",
     "output_type": "stream",
     "text": [
      "\n"
     ]
    },
    {
     "name": "stderr",
     "output_type": "stream",
     "text": [
      "\r",
      "chain 2 |\u001b[33m███▏      \u001b[0m| 00:00 Iteration:  64300 / 200000 [ 32%]  (Warmup)"
     ]
    },
    {
     "name": "stderr",
     "output_type": "stream",
     "text": [
      "\u001b[A"
     ]
    },
    {
     "name": "stderr",
     "output_type": "stream",
     "text": [
      "\r",
      "chain 1 |\u001b[33m████▌     \u001b[0m| 00:00 Iteration:  90500 / 200000 [ 45%]  (Warmup)"
     ]
    },
    {
     "name": "stderr",
     "output_type": "stream",
     "text": [
      "\n"
     ]
    },
    {
     "name": "stderr",
     "output_type": "stream",
     "text": [
      "\r",
      "chain 2 |\u001b[33m████▍     \u001b[0m| 00:00 Iteration:  88100 / 200000 [ 44%]  (Warmup)"
     ]
    },
    {
     "name": "stderr",
     "output_type": "stream",
     "text": [
      "\u001b[A"
     ]
    },
    {
     "name": "stderr",
     "output_type": "stream",
     "text": [
      "\n"
     ]
    },
    {
     "name": "stderr",
     "output_type": "stream",
     "text": [
      "\r",
      "chain 2 |\u001b[34m█████▌    \u001b[0m| 00:00 Iteration: 110900 / 200000 [ 55%]  (Sampling)"
     ]
    },
    {
     "name": "stderr",
     "output_type": "stream",
     "text": [
      "\u001b[A"
     ]
    },
    {
     "name": "stderr",
     "output_type": "stream",
     "text": [
      "\r",
      "chain 1 |\u001b[34m█████▋    \u001b[0m| 00:00 Iteration: 113400 / 200000 [ 56%]  (Sampling)"
     ]
    },
    {
     "name": "stderr",
     "output_type": "stream",
     "text": [
      "\n"
     ]
    },
    {
     "name": "stderr",
     "output_type": "stream",
     "text": [
      "\r",
      "chain 2 |\u001b[34m██████▌   \u001b[0m| 00:00 Iteration: 130300 / 200000 [ 65%]  (Sampling)"
     ]
    },
    {
     "name": "stderr",
     "output_type": "stream",
     "text": [
      "\u001b[A"
     ]
    },
    {
     "name": "stderr",
     "output_type": "stream",
     "text": [
      "\r",
      "chain 1 |\u001b[34m██████▋   \u001b[0m| 00:00 Iteration: 132400 / 200000 [ 66%]  (Sampling)"
     ]
    },
    {
     "name": "stderr",
     "output_type": "stream",
     "text": [
      "\n"
     ]
    },
    {
     "name": "stderr",
     "output_type": "stream",
     "text": [
      "\r",
      "chain 2 |\u001b[34m███████▎  \u001b[0m| 00:00 Iteration: 146200 / 200000 [ 73%]  (Sampling)"
     ]
    },
    {
     "name": "stderr",
     "output_type": "stream",
     "text": [
      "\u001b[A"
     ]
    },
    {
     "name": "stderr",
     "output_type": "stream",
     "text": [
      "\r",
      "chain 1 |\u001b[34m███████▍  \u001b[0m| 00:00 Iteration: 148000 / 200000 [ 74%]  (Sampling)"
     ]
    },
    {
     "name": "stderr",
     "output_type": "stream",
     "text": [
      "\n"
     ]
    },
    {
     "name": "stderr",
     "output_type": "stream",
     "text": [
      "\r",
      "chain 2 |\u001b[34m███████▉  \u001b[0m| 00:01 Iteration: 159800 / 200000 [ 79%]  (Sampling)"
     ]
    },
    {
     "name": "stderr",
     "output_type": "stream",
     "text": [
      "\u001b[A"
     ]
    },
    {
     "name": "stderr",
     "output_type": "stream",
     "text": [
      "\r",
      "chain 1 |\u001b[34m████████  \u001b[0m| 00:01 Iteration: 161500 / 200000 [ 80%]  (Sampling)"
     ]
    },
    {
     "name": "stderr",
     "output_type": "stream",
     "text": [
      "\n"
     ]
    },
    {
     "name": "stderr",
     "output_type": "stream",
     "text": [
      "\r",
      "chain 2 |\u001b[34m████████▌ \u001b[0m| 00:01 Iteration: 171900 / 200000 [ 85%]  (Sampling)"
     ]
    },
    {
     "name": "stderr",
     "output_type": "stream",
     "text": [
      "\u001b[A"
     ]
    },
    {
     "name": "stderr",
     "output_type": "stream",
     "text": [
      "\r",
      "chain 1 |\u001b[34m████████▋ \u001b[0m| 00:01 Iteration: 173600 / 200000 [ 86%]  (Sampling)"
     ]
    },
    {
     "name": "stderr",
     "output_type": "stream",
     "text": [
      "\n"
     ]
    },
    {
     "name": "stderr",
     "output_type": "stream",
     "text": [
      "\r",
      "chain 2 |\u001b[34m█████████▏\u001b[0m| 00:01 Iteration: 183000 / 200000 [ 91%]  (Sampling)"
     ]
    },
    {
     "name": "stderr",
     "output_type": "stream",
     "text": [
      "\u001b[A"
     ]
    },
    {
     "name": "stderr",
     "output_type": "stream",
     "text": [
      "\r",
      "chain 1 |\u001b[34m█████████▏\u001b[0m| 00:01 Iteration: 184600 / 200000 [ 92%]  (Sampling)"
     ]
    },
    {
     "name": "stderr",
     "output_type": "stream",
     "text": [
      "\n"
     ]
    },
    {
     "name": "stderr",
     "output_type": "stream",
     "text": [
      "\r",
      "chain 2 |\u001b[34m█████████▋\u001b[0m| 00:01 Iteration: 193400 / 200000 [ 96%]  (Sampling)"
     ]
    },
    {
     "name": "stderr",
     "output_type": "stream",
     "text": [
      "\u001b[A"
     ]
    },
    {
     "name": "stderr",
     "output_type": "stream",
     "text": [
      "\r",
      "chain 1 |\u001b[34m█████████▊\u001b[0m| 00:01 Iteration: 194900 / 200000 [ 97%]  (Sampling)"
     ]
    },
    {
     "name": "stderr",
     "output_type": "stream",
     "text": [
      "\n",
      "\n"
     ]
    },
    {
     "name": "stderr",
     "output_type": "stream",
     "text": [
      "\r",
      "chain 3 |\u001b[33m          \u001b[0m| 00:01 Status"
     ]
    },
    {
     "name": "stderr",
     "output_type": "stream",
     "text": [
      "\u001b[A\u001b[A"
     ]
    },
    {
     "name": "stderr",
     "output_type": "stream",
     "text": [
      "\n",
      "\n",
      "\n"
     ]
    },
    {
     "name": "stderr",
     "output_type": "stream",
     "text": [
      "\r",
      "chain 4 |\u001b[33m          \u001b[0m| 00:01 Status"
     ]
    },
    {
     "name": "stderr",
     "output_type": "stream",
     "text": [
      "\u001b[A\u001b[A\u001b[A"
     ]
    },
    {
     "name": "stderr",
     "output_type": "stream",
     "text": [
      "\n",
      "\n"
     ]
    },
    {
     "name": "stderr",
     "output_type": "stream",
     "text": [
      "\r",
      "chain 3 |\u001b[33m█▏        \u001b[0m| 00:01 Iteration:  23800 / 200000 [ 11%]  (Warmup)"
     ]
    },
    {
     "name": "stderr",
     "output_type": "stream",
     "text": [
      "\u001b[A\u001b[A"
     ]
    },
    {
     "name": "stderr",
     "output_type": "stream",
     "text": [
      "\n",
      "\n",
      "\n"
     ]
    },
    {
     "name": "stderr",
     "output_type": "stream",
     "text": [
      "\r",
      "chain 4 |\u001b[33m█         \u001b[0m| 00:01 Iteration:  21900 / 200000 [ 10%]  (Warmup)"
     ]
    },
    {
     "name": "stderr",
     "output_type": "stream",
     "text": [
      "\u001b[A\u001b[A\u001b[A"
     ]
    },
    {
     "name": "stderr",
     "output_type": "stream",
     "text": [
      "\n",
      "\n"
     ]
    },
    {
     "name": "stderr",
     "output_type": "stream",
     "text": [
      "\r",
      "chain 3 |\u001b[33m██▍       \u001b[0m| 00:01 Iteration:  48000 / 200000 [ 24%]  (Warmup)"
     ]
    },
    {
     "name": "stderr",
     "output_type": "stream",
     "text": [
      "\u001b[A\u001b[A"
     ]
    },
    {
     "name": "stderr",
     "output_type": "stream",
     "text": [
      "\n",
      "\n",
      "\n"
     ]
    },
    {
     "name": "stderr",
     "output_type": "stream",
     "text": [
      "\r",
      "chain 4 |\u001b[33m██▏       \u001b[0m| 00:01 Iteration:  44600 / 200000 [ 22%]  (Warmup)"
     ]
    },
    {
     "name": "stderr",
     "output_type": "stream",
     "text": [
      "\u001b[A\u001b[A\u001b[A"
     ]
    },
    {
     "name": "stderr",
     "output_type": "stream",
     "text": [
      "\n",
      "\n"
     ]
    },
    {
     "name": "stderr",
     "output_type": "stream",
     "text": [
      "\r",
      "chain 3 |\u001b[33m███▋      \u001b[0m| 00:01 Iteration:  72700 / 200000 [ 36%]  (Warmup)"
     ]
    },
    {
     "name": "stderr",
     "output_type": "stream",
     "text": [
      "\u001b[A\u001b[A"
     ]
    },
    {
     "name": "stderr",
     "output_type": "stream",
     "text": [
      "\n",
      "\n",
      "\n"
     ]
    },
    {
     "name": "stderr",
     "output_type": "stream",
     "text": [
      "\r",
      "chain 4 |\u001b[33m███▎      \u001b[0m| 00:01 Iteration:  67300 / 200000 [ 33%]  (Warmup)"
     ]
    },
    {
     "name": "stderr",
     "output_type": "stream",
     "text": [
      "\u001b[A\u001b[A\u001b[A"
     ]
    },
    {
     "name": "stderr",
     "output_type": "stream",
     "text": [
      "\n",
      "\n"
     ]
    },
    {
     "name": "stderr",
     "output_type": "stream",
     "text": [
      "\r",
      "chain 3 |\u001b[33m████▉     \u001b[0m| 00:01 Iteration:  97600 / 200000 [ 48%]  (Warmup)"
     ]
    },
    {
     "name": "stderr",
     "output_type": "stream",
     "text": [
      "\u001b[A\u001b[A"
     ]
    },
    {
     "name": "stderr",
     "output_type": "stream",
     "text": [
      "\n",
      "\n",
      "\n"
     ]
    },
    {
     "name": "stderr",
     "output_type": "stream",
     "text": [
      "\r",
      "chain 4 |\u001b[33m████▍     \u001b[0m| 00:01 Iteration:  89800 / 200000 [ 44%]  (Warmup)"
     ]
    },
    {
     "name": "stderr",
     "output_type": "stream",
     "text": [
      "\u001b[A\u001b[A\u001b[A"
     ]
    },
    {
     "name": "stderr",
     "output_type": "stream",
     "text": [
      "\n",
      "\n",
      "\n"
     ]
    },
    {
     "name": "stderr",
     "output_type": "stream",
     "text": [
      "\r",
      "chain 4 |\u001b[34m█████▌    \u001b[0m| 00:02 Iteration: 110300 / 200000 [ 55%]  (Sampling)"
     ]
    },
    {
     "name": "stderr",
     "output_type": "stream",
     "text": [
      "\u001b[A\u001b[A\u001b[A"
     ]
    },
    {
     "name": "stderr",
     "output_type": "stream",
     "text": [
      "\n",
      "\n"
     ]
    },
    {
     "name": "stderr",
     "output_type": "stream",
     "text": [
      "\r",
      "chain 3 |\u001b[34m██████    \u001b[0m| 00:02 Iteration: 119900 / 200000 [ 59%]  (Sampling)"
     ]
    },
    {
     "name": "stderr",
     "output_type": "stream",
     "text": [
      "\u001b[A\u001b[A"
     ]
    },
    {
     "name": "stderr",
     "output_type": "stream",
     "text": [
      "\n",
      "\n",
      "\n"
     ]
    },
    {
     "name": "stderr",
     "output_type": "stream",
     "text": [
      "\r",
      "chain 4 |\u001b[34m██████▍   \u001b[0m| 00:02 Iteration: 128300 / 200000 [ 64%]  (Sampling)"
     ]
    },
    {
     "name": "stderr",
     "output_type": "stream",
     "text": [
      "\u001b[A\u001b[A\u001b[A"
     ]
    },
    {
     "name": "stderr",
     "output_type": "stream",
     "text": [
      "\n",
      "\n"
     ]
    },
    {
     "name": "stderr",
     "output_type": "stream",
     "text": [
      "\r",
      "chain 3 |\u001b[34m██████▉   \u001b[0m| 00:02 Iteration: 138000 / 200000 [ 69%]  (Sampling)"
     ]
    },
    {
     "name": "stderr",
     "output_type": "stream",
     "text": [
      "\u001b[A\u001b[A"
     ]
    },
    {
     "name": "stderr",
     "output_type": "stream",
     "text": [
      "\n",
      "\n",
      "\n"
     ]
    },
    {
     "name": "stderr",
     "output_type": "stream",
     "text": [
      "\r",
      "chain 4 |\u001b[34m███████▏  \u001b[0m| 00:02 Iteration: 143300 / 200000 [ 71%]  (Sampling)"
     ]
    },
    {
     "name": "stderr",
     "output_type": "stream",
     "text": [
      "\u001b[A\u001b[A\u001b[A"
     ]
    },
    {
     "name": "stderr",
     "output_type": "stream",
     "text": [
      "\n",
      "\n"
     ]
    },
    {
     "name": "stderr",
     "output_type": "stream",
     "text": [
      "\r",
      "chain 3 |\u001b[34m███████▋  \u001b[0m| 00:02 Iteration: 153200 / 200000 [ 76%]  (Sampling)"
     ]
    },
    {
     "name": "stderr",
     "output_type": "stream",
     "text": [
      "\u001b[A\u001b[A"
     ]
    },
    {
     "name": "stderr",
     "output_type": "stream",
     "text": [
      "\n",
      "\n",
      "\n"
     ]
    },
    {
     "name": "stderr",
     "output_type": "stream",
     "text": [
      "\r",
      "chain 4 |\u001b[34m███████▊  \u001b[0m| 00:02 Iteration: 156300 / 200000 [ 78%]  (Sampling)"
     ]
    },
    {
     "name": "stderr",
     "output_type": "stream",
     "text": [
      "\u001b[A\u001b[A\u001b[A"
     ]
    },
    {
     "name": "stderr",
     "output_type": "stream",
     "text": [
      "\n",
      "\n"
     ]
    },
    {
     "name": "stderr",
     "output_type": "stream",
     "text": [
      "\r",
      "chain 3 |\u001b[34m████████▎ \u001b[0m| 00:02 Iteration: 166400 / 200000 [ 83%]  (Sampling)"
     ]
    },
    {
     "name": "stderr",
     "output_type": "stream",
     "text": [
      "\u001b[A\u001b[A"
     ]
    },
    {
     "name": "stderr",
     "output_type": "stream",
     "text": [
      "\n",
      "\n",
      "\n"
     ]
    },
    {
     "name": "stderr",
     "output_type": "stream",
     "text": [
      "\r",
      "chain 4 |\u001b[34m████████▍ \u001b[0m| 00:02 Iteration: 168000 / 200000 [ 84%]  (Sampling)"
     ]
    },
    {
     "name": "stderr",
     "output_type": "stream",
     "text": [
      "\u001b[A\u001b[A\u001b[A"
     ]
    },
    {
     "name": "stderr",
     "output_type": "stream",
     "text": [
      "\n",
      "\n"
     ]
    },
    {
     "name": "stderr",
     "output_type": "stream",
     "text": [
      "\r",
      "chain 3 |\u001b[34m████████▉ \u001b[0m| 00:02 Iteration: 178300 / 200000 [ 89%]  (Sampling)"
     ]
    },
    {
     "name": "stderr",
     "output_type": "stream",
     "text": [
      "\u001b[A\u001b[A"
     ]
    },
    {
     "name": "stderr",
     "output_type": "stream",
     "text": [
      "\n",
      "\n",
      "\n"
     ]
    },
    {
     "name": "stderr",
     "output_type": "stream",
     "text": [
      "\r",
      "chain 4 |\u001b[34m████████▉ \u001b[0m| 00:02 Iteration: 178800 / 200000 [ 89%]  (Sampling)"
     ]
    },
    {
     "name": "stderr",
     "output_type": "stream",
     "text": [
      "\u001b[A\u001b[A\u001b[A"
     ]
    },
    {
     "name": "stderr",
     "output_type": "stream",
     "text": [
      "\n",
      "\n"
     ]
    },
    {
     "name": "stderr",
     "output_type": "stream",
     "text": [
      "\r",
      "chain 3 |\u001b[34m█████████▍\u001b[0m| 00:02 Iteration: 189300 / 200000 [ 94%]  (Sampling)"
     ]
    },
    {
     "name": "stderr",
     "output_type": "stream",
     "text": [
      "\u001b[A\u001b[A"
     ]
    },
    {
     "name": "stderr",
     "output_type": "stream",
     "text": [
      "\n",
      "\n",
      "\n"
     ]
    },
    {
     "name": "stderr",
     "output_type": "stream",
     "text": [
      "\r",
      "chain 4 |\u001b[34m█████████▍\u001b[0m| 00:03 Iteration: 189000 / 200000 [ 94%]  (Sampling)"
     ]
    },
    {
     "name": "stderr",
     "output_type": "stream",
     "text": [
      "\u001b[A\u001b[A\u001b[A"
     ]
    },
    {
     "name": "stderr",
     "output_type": "stream",
     "text": [
      "\n",
      "\n"
     ]
    },
    {
     "name": "stderr",
     "output_type": "stream",
     "text": [
      "\r",
      "chain 3 |\u001b[34m█████████▉\u001b[0m| 00:03 Iteration: 199700 / 200000 [ 99%]  (Sampling)"
     ]
    },
    {
     "name": "stderr",
     "output_type": "stream",
     "text": [
      "\u001b[A\u001b[A"
     ]
    },
    {
     "name": "stderr",
     "output_type": "stream",
     "text": [
      "\n",
      "\n",
      "\n"
     ]
    },
    {
     "name": "stderr",
     "output_type": "stream",
     "text": [
      "\r",
      "chain 4 |\u001b[34m█████████▉\u001b[0m| 00:03 Iteration: 198800 / 200000 [ 99%]  (Sampling)"
     ]
    },
    {
     "name": "stderr",
     "output_type": "stream",
     "text": [
      "\u001b[A\u001b[A\u001b[A"
     ]
    },
    {
     "name": "stderr",
     "output_type": "stream",
     "text": [
      "\r",
      "chain 1 |\u001b[34m██████████\u001b[0m| 00:03 Sampling completed                           "
     ]
    },
    {
     "name": "stderr",
     "output_type": "stream",
     "text": [
      "\n",
      "\r",
      "chain 2 |\u001b[34m██████████\u001b[0m| 00:03 Sampling completed                           "
     ]
    },
    {
     "name": "stderr",
     "output_type": "stream",
     "text": [
      "\n",
      "\r",
      "chain 3 |\u001b[34m██████████\u001b[0m| 00:03 Sampling completed                           "
     ]
    },
    {
     "name": "stderr",
     "output_type": "stream",
     "text": [
      "\n",
      "\r",
      "chain 4 |\u001b[34m██████████\u001b[0m| 00:03 Sampling completed                           "
     ]
    },
    {
     "name": "stdout",
     "output_type": "stream",
     "text": [
      "                                                                                "
     ]
    },
    {
     "name": "stdout",
     "output_type": "stream",
     "text": [
      "                                                                                "
     ]
    },
    {
     "name": "stdout",
     "output_type": "stream",
     "text": [
      "                                                                                "
     ]
    },
    {
     "name": "stdout",
     "output_type": "stream",
     "text": [
      "                                                                                "
     ]
    },
    {
     "name": "stderr",
     "output_type": "stream",
     "text": [
      "\n",
      "15:37:59 - cmdstanpy - INFO - CmdStan done processing.\n"
     ]
    },
    {
     "name": "stdout",
     "output_type": "stream",
     "text": [
      "\n"
     ]
    }
   ],
   "source": [
    "fit = model.sample(data='bernoulli.data.json', iter_warmup=100000, iter_sampling=100000, show_progress=True)\n"
   ]
  },
  {
   "cell_type": "markdown",
   "metadata": {},
   "source": [
    "To see the CmdStan console outputs instead of progress bars, specify ``show_console=True``\n",
    "This will stream all CmdStan messages to the terminal while the sampler is running.\n",
    "This option will allow you to debug a Stan program using the Stan language `print` statement."
   ]
  },
  {
   "cell_type": "code",
   "execution_count": 7,
   "metadata": {
    "execution": {
     "iopub.execute_input": "2022-08-22T15:38:02.263029Z",
     "iopub.status.busy": "2022-08-22T15:38:02.262312Z",
     "iopub.status.idle": "2022-08-22T15:38:02.350566Z",
     "shell.execute_reply": "2022-08-22T15:38:02.349681Z"
    },
    "tags": []
   },
   "outputs": [
    {
     "name": "stderr",
     "output_type": "stream",
     "text": [
      "15:38:02 - cmdstanpy - INFO - Chain [1] start processing\n"
     ]
    },
    {
     "name": "stderr",
     "output_type": "stream",
     "text": [
      "15:38:02 - cmdstanpy - INFO - Chain [1] done processing\n"
     ]
    },
    {
     "name": "stderr",
     "output_type": "stream",
     "text": [
      "15:38:02 - cmdstanpy - INFO - Chain [2] start processing\n"
     ]
    },
    {
     "name": "stderr",
     "output_type": "stream",
     "text": [
      "15:38:02 - cmdstanpy - INFO - Chain [2] done processing\n"
     ]
    },
    {
     "name": "stdout",
     "output_type": "stream",
     "text": [
      "Chain [1] method = sample (Default)\n",
      "Chain [1] sample\n",
      "Chain [1] num_samples = 1000 (Default)\n",
      "Chain [1] num_warmup = 1000 (Default)\n",
      "Chain [1] save_warmup = 0 (Default)\n",
      "Chain [1] thin = 1 (Default)\n",
      "Chain [1] adapt\n",
      "Chain [1] engaged = 1 (Default)\n",
      "Chain [1] gamma = 0.050000000000000003 (Default)\n",
      "Chain [1] delta = 0.80000000000000004 (Default)\n",
      "Chain [1] kappa = 0.75 (Default)\n",
      "Chain [1] t0 = 10 (Default)\n",
      "Chain [1] init_buffer = 75 (Default)\n",
      "Chain [1] term_buffer = 50 (Default)\n",
      "Chain [1] window = 25 (Default)\n",
      "Chain [1] algorithm = hmc (Default)\n",
      "Chain [1] hmc\n",
      "Chain [1] engine = nuts (Default)\n",
      "Chain [1] nuts\n",
      "Chain [1] max_depth = 10 (Default)\n",
      "Chain [1] metric = diag_e (Default)\n",
      "Chain [1] metric_file =  (Default)\n",
      "Chain [1] stepsize = 1 (Default)\n",
      "Chain [1] stepsize_jitter = 0 (Default)\n",
      "Chain [1] num_chains = 1 (Default)\n",
      "Chain [1] id = 1 (Default)\n",
      "Chain [1] data\n",
      "Chain [1] file = bernoulli.data.json\n",
      "Chain [1] init = 2 (Default)\n",
      "Chain [1] random\n",
      "Chain [1] seed = 13152\n",
      "Chain [1] output\n",
      "Chain [1] file = /tmp/tmpq5qkow4o/bernoullii6nraj14/bernoulli-20220822153802_1.csv\n",
      "Chain [1] diagnostic_file =  (Default)\n",
      "Chain [1] refresh = 100 (Default)\n",
      "Chain [1] sig_figs = -1 (Default)\n",
      "Chain [1] profile_file = profile.csv (Default)\n",
      "Chain [1] num_threads = 1 (Default)\n",
      "Chain [1] \n",
      "Chain [1] \n",
      "Chain [1] Gradient evaluation took 4e-06 seconds\n",
      "Chain [1] 1000 transitions using 10 leapfrog steps per transition would take 0.04 seconds.\n",
      "Chain [1] Adjust your expectations accordingly!\n",
      "Chain [1] \n",
      "Chain [1] \n",
      "Chain [1] Iteration:    1 / 2000 [  0%]  (Warmup)\n",
      "Chain [1] Iteration:  100 / 2000 [  5%]  (Warmup)\n",
      "Chain [1] Iteration:  200 / 2000 [ 10%]  (Warmup)\n",
      "Chain [1] Iteration:  300 / 2000 [ 15%]  (Warmup)\n",
      "Chain [1] Iteration:  400 / 2000 [ 20%]  (Warmup)\n",
      "Chain [1] Iteration:  500 / 2000 [ 25%]  (Warmup)\n",
      "Chain [1] Iteration:  600 / 2000 [ 30%]  (Warmup)\n",
      "Chain [1] Iteration:  700 / 2000 [ 35%]  (Warmup)\n",
      "Chain [1] Iteration:  800 / 2000 [ 40%]  (Warmup)\n",
      "Chain [1] Iteration:  900 / 2000 [ 45%]  (Warmup)\n",
      "Chain [1] Iteration: 1000 / 2000 [ 50%]  (Warmup)\n",
      "Chain [1] Iteration: 1001 / 2000 [ 50%]  (Sampling)\n",
      "Chain [1] Iteration: 1100 / 2000 [ 55%]  (Sampling)\n",
      "Chain [1] Iteration: 1200 / 2000 [ 60%]  (Sampling)\n",
      "Chain [1] Iteration: 1300 / 2000 [ 65%]  (Sampling)\n",
      "Chain [1] Iteration: 1400 / 2000 [ 70%]  (Sampling)\n",
      "Chain [1] Iteration: 1500 / 2000 [ 75%]  (Sampling)\n",
      "Chain [1] Iteration: 1600 / 2000 [ 80%]  (Sampling)\n",
      "Chain [1] Iteration: 1700 / 2000 [ 85%]  (Sampling)\n",
      "Chain [1] Iteration: 1800 / 2000 [ 90%]  (Sampling)\n",
      "Chain [1] Iteration: 1900 / 2000 [ 95%]  (Sampling)\n",
      "Chain [1] Iteration: 2000 / 2000 [100%]  (Sampling)\n",
      "Chain [1] \n",
      "Chain [1] Elapsed Time: 0.004 seconds (Warm-up)\n",
      "Chain [1] 0.01 seconds (Sampling)\n",
      "Chain [1] 0.014 seconds (Total)\n",
      "Chain [1] \n",
      "Chain [1] \n",
      "Chain [2] method = sample (Default)\n",
      "Chain [2] sample\n",
      "Chain [2] num_samples = 1000 (Default)\n",
      "Chain [2] num_warmup = 1000 (Default)\n",
      "Chain [2] save_warmup = 0 (Default)\n",
      "Chain [2] thin = 1 (Default)\n",
      "Chain [2] adapt\n",
      "Chain [2] engaged = 1 (Default)\n",
      "Chain [2] gamma = 0.050000000000000003 (Default)\n",
      "Chain [2] delta = 0.80000000000000004 (Default)\n",
      "Chain [2] kappa = 0.75 (Default)\n",
      "Chain [2] t0 = 10 (Default)\n",
      "Chain [2] init_buffer = 75 (Default)\n",
      "Chain [2] term_buffer = 50 (Default)\n",
      "Chain [2] window = 25 (Default)\n",
      "Chain [2] algorithm = hmc (Default)\n",
      "Chain [2] hmc\n",
      "Chain [2] engine = nuts (Default)\n",
      "Chain [2] nuts\n",
      "Chain [2] max_depth = 10 (Default)\n",
      "Chain [2] metric = diag_e (Default)\n",
      "Chain [2] metric_file =  (Default)\n",
      "Chain [2] stepsize = 1 (Default)\n",
      "Chain [2] stepsize_jitter = 0 (Default)\n",
      "Chain [2] num_chains = 1 (Default)\n",
      "Chain [2] id = 2\n",
      "Chain [2] data\n",
      "Chain [2] file = bernoulli.data.json\n",
      "Chain [2] init = 2 (Default)\n",
      "Chain [2] random\n",
      "Chain [2] seed = 13152\n",
      "Chain [2] output\n",
      "Chain [2] file = /tmp/tmpq5qkow4o/bernoullii6nraj14/bernoulli-20220822153802_2.csv\n",
      "Chain [2] diagnostic_file =  (Default)\n",
      "Chain [2] refresh = 100 (Default)\n",
      "Chain [2] sig_figs = -1 (Default)\n",
      "Chain [2] profile_file = profile.csv (Default)\n",
      "Chain [2] num_threads = 1 (Default)\n",
      "Chain [2] \n",
      "Chain [2] \n",
      "Chain [2] Gradient evaluation took 3e-06 seconds\n",
      "Chain [2] 1000 transitions using 10 leapfrog steps per transition would take 0.03 seconds.\n",
      "Chain [2] Adjust your expectations accordingly!\n",
      "Chain [2] \n",
      "Chain [2] \n",
      "Chain [2] Iteration:    1 / 2000 [  0%]  (Warmup)\n",
      "Chain [2] Iteration:  100 / 2000 [  5%]  (Warmup)\n",
      "Chain [2] Iteration:  200 / 2000 [ 10%]  (Warmup)\n",
      "Chain [2] Iteration:  300 / 2000 [ 15%]  (Warmup)\n",
      "Chain [2] Iteration:  400 / 2000 [ 20%]  (Warmup)\n",
      "Chain [2] Iteration:  500 / 2000 [ 25%]  (Warmup)\n",
      "Chain [2] Iteration:  600 / 2000 [ 30%]  (Warmup)\n",
      "Chain [2] Iteration:  700 / 2000 [ 35%]  (Warmup)\n",
      "Chain [2] Iteration:  800 / 2000 [ 40%]  (Warmup)\n",
      "Chain [2] Iteration:  900 / 2000 [ 45%]  (Warmup)\n",
      "Chain [2] Iteration: 1000 / 2000 [ 50%]  (Warmup)\n",
      "Chain [2] Iteration: 1001 / 2000 [ 50%]  (Sampling)\n",
      "Chain [2] Iteration: 1100 / 2000 [ 55%]  (Sampling)\n",
      "Chain [2] Iteration: 1200 / 2000 [ 60%]  (Sampling)\n",
      "Chain [2] Iteration: 1300 / 2000 [ 65%]  (Sampling)\n",
      "Chain [2] Iteration: 1400 / 2000 [ 70%]  (Sampling)\n",
      "Chain [2] Iteration: 1500 / 2000 [ 75%]  (Sampling)\n",
      "Chain [2] Iteration: 1600 / 2000 [ 80%]  (Sampling)\n",
      "Chain [2] Iteration: 1700 / 2000 [ 85%]  (Sampling)\n",
      "Chain [2] Iteration: 1800 / 2000 [ 90%]  (Sampling)\n",
      "Chain [2] Iteration: 1900 / 2000 [ 95%]  (Sampling)\n",
      "Chain [2] Iteration: 2000 / 2000 [100%]  (Sampling)\n",
      "Chain [2] \n",
      "Chain [2] Elapsed Time: 0.004 seconds (Warm-up)\n",
      "Chain [2] 0.01 seconds (Sampling)\n",
      "Chain [2] 0.014 seconds (Total)\n",
      "Chain [2] \n",
      "Chain [2] \n",
      "Chain [2] \n"
     ]
    }
   ],
   "source": [
    "fit = model.sample(data='bernoulli.data.json', chains=2, parallel_chains=1, show_console=True)\n",
    "\n"
   ]
  },
  {
   "cell_type": "markdown",
   "metadata": {
    "tags": []
   },
   "source": [
    "## Checking the fit\n",
    "\n",
    "The first question to ask of the `CmdStanMCMC` object is:  _is this a valid sample from the posterior?_"
   ]
  },
  {
   "cell_type": "markdown",
   "metadata": {
    "tags": []
   },
   "source": [
    "It is important to check whether or not the sampler was able to fit the model given the data.  Often, this is not possible, for any number of reasons.\n",
    "To appreciate the sampler diagnostics, we use a hierarchical model which, given a small amount of data, encounters difficulty: the centered parameterization of the \n",
    "\"8-schools\" model (Rubin, 1981).\n",
    "The \"8-schools\" model is a simple hierarchical model, first developed on a dataset taken from\n",
    "an experiment was conducted in 8 schools, with only treatment effects and their standard errors reported.\n",
    "\n",
    "The Stan model and the original dataset are in files `eight_schools.stan` and `eight_schools.data.json`."
   ]
  },
  {
   "cell_type": "markdown",
   "metadata": {
    "tags": []
   },
   "source": [
    "**eight_schools.stan**"
   ]
  },
  {
   "cell_type": "code",
   "execution_count": 8,
   "metadata": {
    "execution": {
     "iopub.execute_input": "2022-08-22T15:38:02.354758Z",
     "iopub.status.busy": "2022-08-22T15:38:02.354282Z",
     "iopub.status.idle": "2022-08-22T15:38:02.358822Z",
     "shell.execute_reply": "2022-08-22T15:38:02.358283Z"
    }
   },
   "outputs": [
    {
     "name": "stdout",
     "output_type": "stream",
     "text": [
      "data {\n",
      "  int<lower=0> J; // number of schools\n",
      "  array[J] real y; // estimated treatment effect (school j)\n",
      "  array[J] real<lower=0> sigma; // std err of effect estimate (school j)\n",
      "}\n",
      "parameters {\n",
      "  real mu;\n",
      "  array[J] real theta;\n",
      "  real<lower=0> tau;\n",
      "}\n",
      "model {\n",
      "  theta ~ normal(mu, tau);\n",
      "  y ~ normal(theta, sigma);\n",
      "}\n",
      "\n",
      "\n"
     ]
    }
   ],
   "source": [
    "with open('eight_schools.stan', 'r') as fd:\n",
    "    print(fd.read())"
   ]
  },
  {
   "cell_type": "markdown",
   "metadata": {},
   "source": [
    "**eight_schools.data.json**"
   ]
  },
  {
   "cell_type": "code",
   "execution_count": 9,
   "metadata": {
    "execution": {
     "iopub.execute_input": "2022-08-22T15:38:02.362028Z",
     "iopub.status.busy": "2022-08-22T15:38:02.361637Z",
     "iopub.status.idle": "2022-08-22T15:38:02.366224Z",
     "shell.execute_reply": "2022-08-22T15:38:02.365369Z"
    }
   },
   "outputs": [
    {
     "name": "stdout",
     "output_type": "stream",
     "text": [
      "{\n",
      "    \"J\" : 8,\n",
      "    \"y\" : [28,8,-3,7,-1,1,18,12],\n",
      "    \"sigma\" : [15,10,16,11,9,11,10,18],\n",
      "    \"tau\" : 25\n",
      "}\n",
      "\n"
     ]
    }
   ],
   "source": [
    "with open('eight_schools.data.json', 'r') as fd:\n",
    "    print(fd.read())"
   ]
  },
  {
   "cell_type": "markdown",
   "metadata": {},
   "source": [
    "Because there is not much data, the geometry of posterior distribution is highly curved, \n",
    "thus the sampler may encounter difficulty in fitting the model.\n",
    "By specifying the initial seed for the pseudo-random number generator,\n",
    "we insure that the sampler will have difficulty in fitting this model.\n",
    "In particular, some post-warmup iterations diverge, resulting in a biased sample.\n",
    "In addition, some post-warmup iterations hit the maximum allowed treedepth before\n",
    "the trajectory hits the \"U-turn\" condition of the NUTS algorithm,\n",
    "in which case the sampler may fail to properly explore the entire posterior.\n",
    "\n",
    "These diagnostics are checked for automatically at the end of each run; if problems are detected, a WARNING message is logged."
   ]
  },
  {
   "cell_type": "code",
   "execution_count": 10,
   "metadata": {
    "execution": {
     "iopub.execute_input": "2022-08-22T15:38:02.370456Z",
     "iopub.status.busy": "2022-08-22T15:38:02.369875Z",
     "iopub.status.idle": "2022-08-22T15:38:13.597194Z",
     "shell.execute_reply": "2022-08-22T15:38:13.596424Z"
    }
   },
   "outputs": [
    {
     "name": "stderr",
     "output_type": "stream",
     "text": [
      "15:38:02 - cmdstanpy - INFO - compiling stan file /home/runner/work/cmdstanpy/cmdstanpy/docsrc/users-guide/examples/eight_schools.stan to exe file /home/runner/work/cmdstanpy/cmdstanpy/docsrc/users-guide/examples/eight_schools\n"
     ]
    },
    {
     "name": "stderr",
     "output_type": "stream",
     "text": [
      "15:38:13 - cmdstanpy - INFO - compiled model executable: /home/runner/work/cmdstanpy/cmdstanpy/docsrc/users-guide/examples/eight_schools\n"
     ]
    },
    {
     "name": "stderr",
     "output_type": "stream",
     "text": [
      "15:38:13 - cmdstanpy - INFO - CmdStan start processing\n"
     ]
    },
    {
     "name": "stderr",
     "output_type": "stream",
     "text": [
      "\r",
      "chain 1 |\u001b[33m          \u001b[0m| 00:00 Status"
     ]
    },
    {
     "name": "stderr",
     "output_type": "stream",
     "text": [
      "\n"
     ]
    },
    {
     "name": "stderr",
     "output_type": "stream",
     "text": [
      "\r",
      "chain 2 |\u001b[33m          \u001b[0m| 00:00 Status"
     ]
    },
    {
     "name": "stderr",
     "output_type": "stream",
     "text": [
      "\u001b[A"
     ]
    },
    {
     "name": "stderr",
     "output_type": "stream",
     "text": [
      "\n",
      "\n"
     ]
    },
    {
     "name": "stderr",
     "output_type": "stream",
     "text": [
      "\r",
      "chain 3 |\u001b[33m          \u001b[0m| 00:00 Status"
     ]
    },
    {
     "name": "stderr",
     "output_type": "stream",
     "text": [
      "\u001b[A\u001b[A"
     ]
    },
    {
     "name": "stderr",
     "output_type": "stream",
     "text": [
      "\n",
      "\n",
      "\n"
     ]
    },
    {
     "name": "stderr",
     "output_type": "stream",
     "text": [
      "\r",
      "chain 4 |\u001b[33m          \u001b[0m| 00:00 Status"
     ]
    },
    {
     "name": "stderr",
     "output_type": "stream",
     "text": [
      "\u001b[A\u001b[A\u001b[A"
     ]
    },
    {
     "name": "stderr",
     "output_type": "stream",
     "text": [
      "\r",
      "chain 1 |\u001b[34m█████████▌\u001b[0m| 00:00 Iteration: 1800 / 2000 [ 90%]  (Sampling)"
     ]
    },
    {
     "name": "stderr",
     "output_type": "stream",
     "text": [
      "\n"
     ]
    },
    {
     "name": "stderr",
     "output_type": "stream",
     "text": [
      "\r",
      "chain 2 |\u001b[34m█████████▌\u001b[0m| 00:00 Iteration: 1800 / 2000 [ 90%]  (Sampling)"
     ]
    },
    {
     "name": "stderr",
     "output_type": "stream",
     "text": [
      "\u001b[A"
     ]
    },
    {
     "name": "stderr",
     "output_type": "stream",
     "text": [
      "\n",
      "\n"
     ]
    },
    {
     "name": "stderr",
     "output_type": "stream",
     "text": [
      "\r",
      "chain 3 |\u001b[33m▍         \u001b[0m| 00:00 Status"
     ]
    },
    {
     "name": "stderr",
     "output_type": "stream",
     "text": [
      "\u001b[A\u001b[A"
     ]
    },
    {
     "name": "stderr",
     "output_type": "stream",
     "text": [
      "\n",
      "\n",
      "\n"
     ]
    },
    {
     "name": "stderr",
     "output_type": "stream",
     "text": [
      "\r",
      "chain 4 |\u001b[33m▍         \u001b[0m| 00:00 Status"
     ]
    },
    {
     "name": "stderr",
     "output_type": "stream",
     "text": [
      "\u001b[A\u001b[A\u001b[A"
     ]
    },
    {
     "name": "stderr",
     "output_type": "stream",
     "text": [
      "\n",
      "\n"
     ]
    },
    {
     "name": "stderr",
     "output_type": "stream",
     "text": [
      "\r",
      "chain 3 |\u001b[34m██████████\u001b[0m| 00:00 Iteration: 1900 / 2000 [ 95%]  (Sampling)"
     ]
    },
    {
     "name": "stderr",
     "output_type": "stream",
     "text": [
      "\u001b[A\u001b[A"
     ]
    },
    {
     "name": "stderr",
     "output_type": "stream",
     "text": [
      "\r",
      "chain 1 |\u001b[34m██████████\u001b[0m| 00:00 Sampling completed                       "
     ]
    },
    {
     "name": "stderr",
     "output_type": "stream",
     "text": [
      "\n",
      "\r",
      "chain 2 |\u001b[34m██████████\u001b[0m| 00:00 Sampling completed                       "
     ]
    },
    {
     "name": "stderr",
     "output_type": "stream",
     "text": [
      "\n",
      "\r",
      "chain 3 |\u001b[34m██████████\u001b[0m| 00:00 Sampling completed                       "
     ]
    },
    {
     "name": "stderr",
     "output_type": "stream",
     "text": [
      "\n",
      "\n",
      "\n",
      "\n"
     ]
    },
    {
     "name": "stderr",
     "output_type": "stream",
     "text": [
      "\r",
      "chain 4 |\u001b[34m██████████\u001b[0m| 00:00 Sampling completed"
     ]
    },
    {
     "name": "stderr",
     "output_type": "stream",
     "text": [
      "\u001b[A\u001b[A\u001b[A"
     ]
    },
    {
     "name": "stderr",
     "output_type": "stream",
     "text": [
      "\r",
      "chain 4 |\u001b[34m██████████\u001b[0m| 00:00 Sampling completed"
     ]
    },
    {
     "name": "stdout",
     "output_type": "stream",
     "text": [
      "                                                                                "
     ]
    },
    {
     "name": "stdout",
     "output_type": "stream",
     "text": [
      "                                                                                "
     ]
    },
    {
     "name": "stdout",
     "output_type": "stream",
     "text": [
      "                                                                                "
     ]
    },
    {
     "name": "stdout",
     "output_type": "stream",
     "text": [
      "                                                                                "
     ]
    },
    {
     "name": "stderr",
     "output_type": "stream",
     "text": [
      "\n",
      "15:38:13 - cmdstanpy - INFO - CmdStan done processing.\n"
     ]
    },
    {
     "name": "stderr",
     "output_type": "stream",
     "text": [
      "15:38:13 - cmdstanpy - WARNING - Some chains may have failed to converge.\n",
      "\tChain 1 had 29 divergent transitions (2.9%)\n",
      "\tChain 2 had 208 divergent transitions (20.8%)\n",
      "\tChain 3 had 17 divergent transitions (1.7%)\n",
      "\tChain 4 had 31 divergent transitions (3.1%)\n",
      "\tUse function \"diagnose()\" to see further information.\n"
     ]
    },
    {
     "name": "stdout",
     "output_type": "stream",
     "text": [
      "\n"
     ]
    }
   ],
   "source": [
    "eight_schools_model = CmdStanModel(stan_file='eight_schools.stan')\n",
    "eight_schools_fit = eight_schools_model.sample(data='eight_schools.data.json', seed=55157)"
   ]
  },
  {
   "cell_type": "markdown",
   "metadata": {},
   "source": [
    "More information on how to address convergence problems can be found at https://mc-stan.org/misc/warnings\n",
    "\n",
    "The number of post-warmup divergences and iterations which hit the maximum treedepth can be inspected directly via properties `divergences` and `max_treedepths`."
   ]
  },
  {
   "cell_type": "code",
   "execution_count": 11,
   "metadata": {
    "execution": {
     "iopub.execute_input": "2022-08-22T15:38:13.601495Z",
     "iopub.status.busy": "2022-08-22T15:38:13.600677Z",
     "iopub.status.idle": "2022-08-22T15:38:13.607759Z",
     "shell.execute_reply": "2022-08-22T15:38:13.607044Z"
    }
   },
   "outputs": [
    {
     "name": "stdout",
     "output_type": "stream",
     "text": [
      "divergences:\n",
      "[ 29 208  17  31]\n",
      "iterations at max_treedepth:\n",
      "[0 0 0 0]\n"
     ]
    }
   ],
   "source": [
    "print(f'divergences:\\n{eight_schools_fit.divergences}\\niterations at max_treedepth:\\n{eight_schools_fit.max_treedepths}')"
   ]
  },
  {
   "cell_type": "markdown",
   "metadata": {},
   "source": [
    "### Summarizing the sample\n",
    "\n",
    "The `summary` method reports the R-hat statistic, a measure of how well the sampler chains have converged."
   ]
  },
  {
   "cell_type": "code",
   "execution_count": 12,
   "metadata": {
    "execution": {
     "iopub.execute_input": "2022-08-22T15:38:13.611334Z",
     "iopub.status.busy": "2022-08-22T15:38:13.610685Z",
     "iopub.status.idle": "2022-08-22T15:38:13.728896Z",
     "shell.execute_reply": "2022-08-22T15:38:13.727986Z"
    },
    "scrolled": true
   },
   "outputs": [
    {
     "data": {
      "text/html": [
       "<div>\n",
       "<style scoped>\n",
       "    .dataframe tbody tr th:only-of-type {\n",
       "        vertical-align: middle;\n",
       "    }\n",
       "\n",
       "    .dataframe tbody tr th {\n",
       "        vertical-align: top;\n",
       "    }\n",
       "\n",
       "    .dataframe thead th {\n",
       "        text-align: right;\n",
       "    }\n",
       "</style>\n",
       "<table border=\"1\" class=\"dataframe\">\n",
       "  <thead>\n",
       "    <tr style=\"text-align: right;\">\n",
       "      <th></th>\n",
       "      <th>Mean</th>\n",
       "      <th>MCSE</th>\n",
       "      <th>StdDev</th>\n",
       "      <th>5%</th>\n",
       "      <th>50%</th>\n",
       "      <th>95%</th>\n",
       "      <th>N_Eff</th>\n",
       "      <th>N_Eff/s</th>\n",
       "      <th>R_hat</th>\n",
       "    </tr>\n",
       "  </thead>\n",
       "  <tbody>\n",
       "    <tr>\n",
       "      <th>lp__</th>\n",
       "      <td>-17.80420</td>\n",
       "      <td>1.297600</td>\n",
       "      <td>5.69607</td>\n",
       "      <td>-26.306500</td>\n",
       "      <td>-18.54890</td>\n",
       "      <td>-8.18723</td>\n",
       "      <td>19.26950</td>\n",
       "      <td>121.19200</td>\n",
       "      <td>1.18588</td>\n",
       "    </tr>\n",
       "    <tr>\n",
       "      <th>mu</th>\n",
       "      <td>7.98088</td>\n",
       "      <td>0.196141</td>\n",
       "      <td>5.17030</td>\n",
       "      <td>-0.847043</td>\n",
       "      <td>8.46135</td>\n",
       "      <td>16.43540</td>\n",
       "      <td>694.85500</td>\n",
       "      <td>4370.16000</td>\n",
       "      <td>1.00830</td>\n",
       "    </tr>\n",
       "    <tr>\n",
       "      <th>theta[1]</th>\n",
       "      <td>11.69530</td>\n",
       "      <td>0.357324</td>\n",
       "      <td>8.65978</td>\n",
       "      <td>-0.384251</td>\n",
       "      <td>10.32760</td>\n",
       "      <td>28.16590</td>\n",
       "      <td>587.33900</td>\n",
       "      <td>3693.95000</td>\n",
       "      <td>1.00867</td>\n",
       "    </tr>\n",
       "    <tr>\n",
       "      <th>theta[2]</th>\n",
       "      <td>7.76656</td>\n",
       "      <td>0.201329</td>\n",
       "      <td>6.38375</td>\n",
       "      <td>-2.518540</td>\n",
       "      <td>7.25419</td>\n",
       "      <td>18.44390</td>\n",
       "      <td>1005.40000</td>\n",
       "      <td>6323.29000</td>\n",
       "      <td>1.00249</td>\n",
       "    </tr>\n",
       "    <tr>\n",
       "      <th>theta[3]</th>\n",
       "      <td>5.96852</td>\n",
       "      <td>0.239867</td>\n",
       "      <td>8.27095</td>\n",
       "      <td>-8.756270</td>\n",
       "      <td>7.21487</td>\n",
       "      <td>18.39070</td>\n",
       "      <td>1188.96000</td>\n",
       "      <td>7477.76000</td>\n",
       "      <td>1.01065</td>\n",
       "    </tr>\n",
       "    <tr>\n",
       "      <th>theta[4]</th>\n",
       "      <td>7.71660</td>\n",
       "      <td>0.201524</td>\n",
       "      <td>6.85139</td>\n",
       "      <td>-3.644710</td>\n",
       "      <td>8.26866</td>\n",
       "      <td>18.80780</td>\n",
       "      <td>1155.86000</td>\n",
       "      <td>7269.54000</td>\n",
       "      <td>1.00593</td>\n",
       "    </tr>\n",
       "    <tr>\n",
       "      <th>theta[5]</th>\n",
       "      <td>4.97621</td>\n",
       "      <td>0.447597</td>\n",
       "      <td>6.65889</td>\n",
       "      <td>-6.701880</td>\n",
       "      <td>5.63811</td>\n",
       "      <td>14.88990</td>\n",
       "      <td>221.32500</td>\n",
       "      <td>1391.98000</td>\n",
       "      <td>1.03708</td>\n",
       "    </tr>\n",
       "    <tr>\n",
       "      <th>theta[6]</th>\n",
       "      <td>5.88040</td>\n",
       "      <td>0.212933</td>\n",
       "      <td>6.89437</td>\n",
       "      <td>-6.316140</td>\n",
       "      <td>6.83414</td>\n",
       "      <td>16.41370</td>\n",
       "      <td>1048.34000</td>\n",
       "      <td>6593.35000</td>\n",
       "      <td>1.01177</td>\n",
       "    </tr>\n",
       "    <tr>\n",
       "      <th>theta[7]</th>\n",
       "      <td>10.95250</td>\n",
       "      <td>0.243737</td>\n",
       "      <td>6.90153</td>\n",
       "      <td>0.384918</td>\n",
       "      <td>9.93285</td>\n",
       "      <td>23.58810</td>\n",
       "      <td>801.76400</td>\n",
       "      <td>5042.54000</td>\n",
       "      <td>1.00408</td>\n",
       "    </tr>\n",
       "    <tr>\n",
       "      <th>theta[8]</th>\n",
       "      <td>8.47301</td>\n",
       "      <td>0.218012</td>\n",
       "      <td>8.06921</td>\n",
       "      <td>-4.222510</td>\n",
       "      <td>8.14475</td>\n",
       "      <td>22.19720</td>\n",
       "      <td>1369.94000</td>\n",
       "      <td>8615.98000</td>\n",
       "      <td>1.00222</td>\n",
       "    </tr>\n",
       "    <tr>\n",
       "      <th>tau</th>\n",
       "      <td>7.01515</td>\n",
       "      <td>0.772870</td>\n",
       "      <td>5.53896</td>\n",
       "      <td>1.022930</td>\n",
       "      <td>5.78582</td>\n",
       "      <td>17.32530</td>\n",
       "      <td>51.36157</td>\n",
       "      <td>323.02876</td>\n",
       "      <td>1.07508</td>\n",
       "    </tr>\n",
       "  </tbody>\n",
       "</table>\n",
       "</div>"
      ],
      "text/plain": [
       "              Mean      MCSE   StdDev         5%       50%       95%  \\\n",
       "lp__     -17.80420  1.297600  5.69607 -26.306500 -18.54890  -8.18723   \n",
       "mu         7.98088  0.196141  5.17030  -0.847043   8.46135  16.43540   \n",
       "theta[1]  11.69530  0.357324  8.65978  -0.384251  10.32760  28.16590   \n",
       "theta[2]   7.76656  0.201329  6.38375  -2.518540   7.25419  18.44390   \n",
       "theta[3]   5.96852  0.239867  8.27095  -8.756270   7.21487  18.39070   \n",
       "theta[4]   7.71660  0.201524  6.85139  -3.644710   8.26866  18.80780   \n",
       "theta[5]   4.97621  0.447597  6.65889  -6.701880   5.63811  14.88990   \n",
       "theta[6]   5.88040  0.212933  6.89437  -6.316140   6.83414  16.41370   \n",
       "theta[7]  10.95250  0.243737  6.90153   0.384918   9.93285  23.58810   \n",
       "theta[8]   8.47301  0.218012  8.06921  -4.222510   8.14475  22.19720   \n",
       "tau        7.01515  0.772870  5.53896   1.022930   5.78582  17.32530   \n",
       "\n",
       "               N_Eff     N_Eff/s    R_hat  \n",
       "lp__        19.26950   121.19200  1.18588  \n",
       "mu         694.85500  4370.16000  1.00830  \n",
       "theta[1]   587.33900  3693.95000  1.00867  \n",
       "theta[2]  1005.40000  6323.29000  1.00249  \n",
       "theta[3]  1188.96000  7477.76000  1.01065  \n",
       "theta[4]  1155.86000  7269.54000  1.00593  \n",
       "theta[5]   221.32500  1391.98000  1.03708  \n",
       "theta[6]  1048.34000  6593.35000  1.01177  \n",
       "theta[7]   801.76400  5042.54000  1.00408  \n",
       "theta[8]  1369.94000  8615.98000  1.00222  \n",
       "tau         51.36157   323.02876  1.07508  "
      ]
     },
     "execution_count": 12,
     "metadata": {},
     "output_type": "execute_result"
    }
   ],
   "source": [
    "eight_schools_fit.summary()"
   ]
  },
  {
   "cell_type": "markdown",
   "metadata": {},
   "source": [
    "### Sampler Diagnostics\n",
    "\n",
    "The `diagnose()` method provides more information about the sample."
   ]
  },
  {
   "cell_type": "code",
   "execution_count": 13,
   "metadata": {
    "execution": {
     "iopub.execute_input": "2022-08-22T15:38:13.733040Z",
     "iopub.status.busy": "2022-08-22T15:38:13.732553Z",
     "iopub.status.idle": "2022-08-22T15:38:13.813133Z",
     "shell.execute_reply": "2022-08-22T15:38:13.812036Z"
    }
   },
   "outputs": [
    {
     "name": "stdout",
     "output_type": "stream",
     "text": [
      "Processing csv files: /tmp/tmpq5qkow4o/eight_schoolsj96cnpp1/eight_schools-20220822153813_1.csv, /tmp/tmpq5qkow4o/eight_schoolsj96cnpp1/eight_schools-20220822153813_2.csv, /tmp/tmpq5qkow4o/eight_schoolsj96cnpp1/eight_schools-20220822153813_3.csv, /tmp/tmpq5qkow4o/eight_schoolsj96cnpp1/eight_schools-20220822153813_4.csv\n",
      "\n",
      "Checking sampler transitions treedepth.\n",
      "Treedepth satisfactory for all transitions.\n",
      "\n",
      "Checking sampler transitions for divergences.\n",
      "285 of 4000 (7.12%) transitions ended with a divergence.\n",
      "These divergent transitions indicate that HMC is not fully able to explore the posterior distribution.\n",
      "Try increasing adapt delta closer to 1.\n",
      "If this doesn't remove all divergences, try to reparameterize the model.\n",
      "\n",
      "Checking E-BFMI - sampler transitions HMC potential energy.\n",
      "The E-BFMI, 0.28, is below the nominal threshold of 0.30 which suggests that HMC may have trouble exploring the target distribution.\n",
      "If possible, try to reparameterize the model.\n",
      "\n",
      "Effective sample size satisfactory.\n",
      "\n",
      "The following parameters had split R-hat greater than 1.05:\n",
      "  tau\n",
      "Such high values indicate incomplete mixing and biased estimation.\n",
      "You should consider regularizating your model with additional prior information or a more effective parameterization.\n",
      "\n",
      "Processing complete.\n",
      "\n"
     ]
    }
   ],
   "source": [
    "print(eight_schools_fit.diagnose())"
   ]
  },
  {
   "cell_type": "markdown",
   "metadata": {},
   "source": [
    "## Accessing the sampler outputs"
   ]
  },
  {
   "cell_type": "code",
   "execution_count": 14,
   "metadata": {
    "execution": {
     "iopub.execute_input": "2022-08-22T15:38:13.817665Z",
     "iopub.status.busy": "2022-08-22T15:38:13.817161Z",
     "iopub.status.idle": "2022-08-22T15:38:13.945491Z",
     "shell.execute_reply": "2022-08-22T15:38:13.944609Z"
    }
   },
   "outputs": [
    {
     "name": "stderr",
     "output_type": "stream",
     "text": [
      "15:38:13 - cmdstanpy - INFO - CmdStan start processing\n"
     ]
    },
    {
     "name": "stderr",
     "output_type": "stream",
     "text": [
      "\r",
      "chain 1 |\u001b[33m          \u001b[0m| 00:00 Status"
     ]
    },
    {
     "name": "stderr",
     "output_type": "stream",
     "text": [
      "\n"
     ]
    },
    {
     "name": "stderr",
     "output_type": "stream",
     "text": [
      "\r",
      "chain 2 |\u001b[33m          \u001b[0m| 00:00 Status"
     ]
    },
    {
     "name": "stderr",
     "output_type": "stream",
     "text": [
      "\u001b[A"
     ]
    },
    {
     "name": "stderr",
     "output_type": "stream",
     "text": [
      "\n",
      "\n"
     ]
    },
    {
     "name": "stderr",
     "output_type": "stream",
     "text": [
      "\r",
      "chain 3 |\u001b[33m          \u001b[0m| 00:00 Status"
     ]
    },
    {
     "name": "stderr",
     "output_type": "stream",
     "text": [
      "\u001b[A\u001b[A"
     ]
    },
    {
     "name": "stderr",
     "output_type": "stream",
     "text": [
      "\n",
      "\n",
      "\n"
     ]
    },
    {
     "name": "stderr",
     "output_type": "stream",
     "text": [
      "\r",
      "chain 4 |\u001b[33m          \u001b[0m| 00:00 Status"
     ]
    },
    {
     "name": "stderr",
     "output_type": "stream",
     "text": [
      "\u001b[A\u001b[A\u001b[A"
     ]
    },
    {
     "name": "stderr",
     "output_type": "stream",
     "text": [
      "\r",
      "chain 1 |\u001b[34m██████████\u001b[0m| 00:00 Sampling completed"
     ]
    },
    {
     "name": "stderr",
     "output_type": "stream",
     "text": [
      "\n",
      "\r",
      "chain 2 |\u001b[34m██████████\u001b[0m| 00:00 Sampling completed"
     ]
    },
    {
     "name": "stderr",
     "output_type": "stream",
     "text": [
      "\n",
      "\r",
      "chain 3 |\u001b[34m██████████\u001b[0m| 00:00 Sampling completed"
     ]
    },
    {
     "name": "stderr",
     "output_type": "stream",
     "text": [
      "\n",
      "\r",
      "chain 4 |\u001b[34m██████████\u001b[0m| 00:00 Sampling completed"
     ]
    },
    {
     "name": "stdout",
     "output_type": "stream",
     "text": [
      "                                                                                "
     ]
    },
    {
     "name": "stdout",
     "output_type": "stream",
     "text": [
      "                                                                                "
     ]
    },
    {
     "name": "stdout",
     "output_type": "stream",
     "text": [
      "                                                                                "
     ]
    },
    {
     "name": "stdout",
     "output_type": "stream",
     "text": [
      "                                                                                "
     ]
    },
    {
     "name": "stderr",
     "output_type": "stream",
     "text": [
      "\n",
      "15:38:13 - cmdstanpy - INFO - CmdStan done processing.\n"
     ]
    },
    {
     "name": "stdout",
     "output_type": "stream",
     "text": [
      "\n"
     ]
    }
   ],
   "source": [
    "fit = model.sample(data='bernoulli.data.json')"
   ]
  },
  {
   "cell_type": "markdown",
   "metadata": {},
   "source": [
    "### Extracting the draws as structured Stan program variables\n",
    "\n",
    "Per-variable draws can be accessed as either a numpy.ndarray object\n",
    "via method `stan_variable` or as an xarray.Dataset object via `draws_xr`."
   ]
  },
  {
   "cell_type": "code",
   "execution_count": 15,
   "metadata": {
    "execution": {
     "iopub.execute_input": "2022-08-22T15:38:13.949545Z",
     "iopub.status.busy": "2022-08-22T15:38:13.949002Z",
     "iopub.status.idle": "2022-08-22T15:38:13.969006Z",
     "shell.execute_reply": "2022-08-22T15:38:13.968135Z"
    }
   },
   "outputs": [
    {
     "name": "stdout",
     "output_type": "stream",
     "text": [
      "[0.249879 0.195015 0.513211 ... 0.229213 0.222328 0.279447]\n"
     ]
    }
   ],
   "source": [
    "print(fit.stan_variable('theta'))"
   ]
  },
  {
   "cell_type": "markdown",
   "metadata": {},
   "source": [
    "The `stan_variables` method returns a Python `dict` over all Stan variables in the output."
   ]
  },
  {
   "cell_type": "code",
   "execution_count": 16,
   "metadata": {
    "execution": {
     "iopub.execute_input": "2022-08-22T15:38:13.973292Z",
     "iopub.status.busy": "2022-08-22T15:38:13.972809Z",
     "iopub.status.idle": "2022-08-22T15:38:13.979221Z",
     "shell.execute_reply": "2022-08-22T15:38:13.978282Z"
    }
   },
   "outputs": [
    {
     "name": "stdout",
     "output_type": "stream",
     "text": [
      "name: theta, shape: (4000,)\n"
     ]
    }
   ],
   "source": [
    "for k, v in fit.stan_variables().items():\n",
    "    print(f'name: {k}, shape: {v.shape}')"
   ]
  },
  {
   "cell_type": "code",
   "execution_count": 17,
   "metadata": {
    "execution": {
     "iopub.execute_input": "2022-08-22T15:38:13.982960Z",
     "iopub.status.busy": "2022-08-22T15:38:13.982286Z",
     "iopub.status.idle": "2022-08-22T15:38:13.991430Z",
     "shell.execute_reply": "2022-08-22T15:38:13.990576Z"
    }
   },
   "outputs": [
    {
     "name": "stdout",
     "output_type": "stream",
     "text": [
      "<xarray.Dataset>\n",
      "Dimensions:  (draw: 1000, chain: 4)\n",
      "Coordinates:\n",
      "  * chain    (chain) int64 1 2 3 4\n",
      "  * draw     (draw) int64 0 1 2 3 4 5 6 7 8 ... 992 993 994 995 996 997 998 999\n",
      "Data variables:\n",
      "    theta    (chain, draw) float64 0.2499 0.195 0.5132 ... 0.2292 0.2223 0.2794\n",
      "Attributes:\n",
      "    stan_version:        2.30.0\n",
      "    model:               bernoulli_model\n",
      "    num_draws_sampling:  1000\n"
     ]
    }
   ],
   "source": [
    "print(fit.draws_xr('theta'))"
   ]
  },
  {
   "cell_type": "markdown",
   "metadata": {},
   "source": [
    "### Extracting the draws in tabular format\n",
    "\n",
    "The sample can be accessed either as a `numpy` array or a pandas `DataFrame`:"
   ]
  },
  {
   "cell_type": "code",
   "execution_count": 18,
   "metadata": {
    "execution": {
     "iopub.execute_input": "2022-08-22T15:38:13.995045Z",
     "iopub.status.busy": "2022-08-22T15:38:13.994622Z",
     "iopub.status.idle": "2022-08-22T15:38:13.998843Z",
     "shell.execute_reply": "2022-08-22T15:38:13.998307Z"
    }
   },
   "outputs": [
    {
     "name": "stdout",
     "output_type": "stream",
     "text": [
      "sample as ndarray: (1000, 4, 8)\n",
      "first 2 draws, chain 1:\n",
      "[[-6.74802   0.671774  1.02906   2.        3.        0.        7.98602\n",
      "   0.249879]\n",
      " [-6.85642   0.970885  1.02906   1.        3.        0.        6.86586\n",
      "   0.195015]]\n"
     ]
    }
   ],
   "source": [
    "print(f'sample as ndarray: {fit.draws().shape}\\nfirst 2 draws, chain 1:\\n{fit.draws()[:2, 0, :]}')"
   ]
  },
  {
   "cell_type": "code",
   "execution_count": 19,
   "metadata": {
    "execution": {
     "iopub.execute_input": "2022-08-22T15:38:14.002842Z",
     "iopub.status.busy": "2022-08-22T15:38:14.002211Z",
     "iopub.status.idle": "2022-08-22T15:38:14.016462Z",
     "shell.execute_reply": "2022-08-22T15:38:14.015869Z"
    }
   },
   "outputs": [
    {
     "data": {
      "text/html": [
       "<div>\n",
       "<style scoped>\n",
       "    .dataframe tbody tr th:only-of-type {\n",
       "        vertical-align: middle;\n",
       "    }\n",
       "\n",
       "    .dataframe tbody tr th {\n",
       "        vertical-align: top;\n",
       "    }\n",
       "\n",
       "    .dataframe thead th {\n",
       "        text-align: right;\n",
       "    }\n",
       "</style>\n",
       "<table border=\"1\" class=\"dataframe\">\n",
       "  <thead>\n",
       "    <tr style=\"text-align: right;\">\n",
       "      <th></th>\n",
       "      <th>lp__</th>\n",
       "      <th>accept_stat__</th>\n",
       "      <th>stepsize__</th>\n",
       "      <th>treedepth__</th>\n",
       "      <th>n_leapfrog__</th>\n",
       "      <th>divergent__</th>\n",
       "      <th>energy__</th>\n",
       "      <th>theta</th>\n",
       "    </tr>\n",
       "  </thead>\n",
       "  <tbody>\n",
       "    <tr>\n",
       "      <th>0</th>\n",
       "      <td>-6.74802</td>\n",
       "      <td>0.671774</td>\n",
       "      <td>1.02906</td>\n",
       "      <td>2.0</td>\n",
       "      <td>3.0</td>\n",
       "      <td>0.0</td>\n",
       "      <td>7.98602</td>\n",
       "      <td>0.249879</td>\n",
       "    </tr>\n",
       "    <tr>\n",
       "      <th>1</th>\n",
       "      <td>-6.85642</td>\n",
       "      <td>0.970885</td>\n",
       "      <td>1.02906</td>\n",
       "      <td>1.0</td>\n",
       "      <td>3.0</td>\n",
       "      <td>0.0</td>\n",
       "      <td>6.86586</td>\n",
       "      <td>0.195015</td>\n",
       "    </tr>\n",
       "    <tr>\n",
       "      <th>2</th>\n",
       "      <td>-8.48052</td>\n",
       "      <td>0.659398</td>\n",
       "      <td>1.02906</td>\n",
       "      <td>1.0</td>\n",
       "      <td>3.0</td>\n",
       "      <td>0.0</td>\n",
       "      <td>8.65449</td>\n",
       "      <td>0.513211</td>\n",
       "    </tr>\n",
       "    <tr>\n",
       "      <th>3</th>\n",
       "      <td>-6.76115</td>\n",
       "      <td>1.000000</td>\n",
       "      <td>1.02906</td>\n",
       "      <td>1.0</td>\n",
       "      <td>3.0</td>\n",
       "      <td>0.0</td>\n",
       "      <td>7.86867</td>\n",
       "      <td>0.230118</td>\n",
       "    </tr>\n",
       "    <tr>\n",
       "      <th>4</th>\n",
       "      <td>-10.62420</td>\n",
       "      <td>0.414807</td>\n",
       "      <td>1.02906</td>\n",
       "      <td>1.0</td>\n",
       "      <td>3.0</td>\n",
       "      <td>0.0</td>\n",
       "      <td>12.11480</td>\n",
       "      <td>0.031935</td>\n",
       "    </tr>\n",
       "  </tbody>\n",
       "</table>\n",
       "</div>"
      ],
      "text/plain": [
       "       lp__  accept_stat__  stepsize__  treedepth__  n_leapfrog__  \\\n",
       "0  -6.74802       0.671774     1.02906          2.0           3.0   \n",
       "1  -6.85642       0.970885     1.02906          1.0           3.0   \n",
       "2  -8.48052       0.659398     1.02906          1.0           3.0   \n",
       "3  -6.76115       1.000000     1.02906          1.0           3.0   \n",
       "4 -10.62420       0.414807     1.02906          1.0           3.0   \n",
       "\n",
       "   divergent__  energy__     theta  \n",
       "0          0.0   7.98602  0.249879  \n",
       "1          0.0   6.86586  0.195015  \n",
       "2          0.0   8.65449  0.513211  \n",
       "3          0.0   7.86867  0.230118  \n",
       "4          0.0  12.11480  0.031935  "
      ]
     },
     "execution_count": 19,
     "metadata": {},
     "output_type": "execute_result"
    }
   ],
   "source": [
    "fit.draws_pd().head()"
   ]
  },
  {
   "cell_type": "markdown",
   "metadata": {},
   "source": [
    "### Extracting sampler method diagnostics"
   ]
  },
  {
   "cell_type": "code",
   "execution_count": 20,
   "metadata": {
    "execution": {
     "iopub.execute_input": "2022-08-22T15:38:14.020652Z",
     "iopub.status.busy": "2022-08-22T15:38:14.020007Z",
     "iopub.status.idle": "2022-08-22T15:38:14.025939Z",
     "shell.execute_reply": "2022-08-22T15:38:14.025248Z"
    }
   },
   "outputs": [
    {
     "name": "stdout",
     "output_type": "stream",
     "text": [
      "name: lp__, shape: (1000, 4)\n",
      "name: accept_stat__, shape: (1000, 4)\n",
      "name: stepsize__, shape: (1000, 4)\n",
      "name: treedepth__, shape: (1000, 4)\n",
      "name: n_leapfrog__, shape: (1000, 4)\n",
      "name: divergent__, shape: (1000, 4)\n",
      "name: energy__, shape: (1000, 4)\n"
     ]
    }
   ],
   "source": [
    "for k, v in fit.method_variables().items():\n",
    "    print(f'name: {k}, shape: {v.shape}')"
   ]
  },
  {
   "cell_type": "markdown",
   "metadata": {},
   "source": [
    "### Extracting the per-chain HMC tuning parameters"
   ]
  },
  {
   "cell_type": "code",
   "execution_count": 21,
   "metadata": {
    "execution": {
     "iopub.execute_input": "2022-08-22T15:38:14.029471Z",
     "iopub.status.busy": "2022-08-22T15:38:14.028987Z",
     "iopub.status.idle": "2022-08-22T15:38:14.033363Z",
     "shell.execute_reply": "2022-08-22T15:38:14.032797Z"
    }
   },
   "outputs": [
    {
     "name": "stdout",
     "output_type": "stream",
     "text": [
      "adapted step_size per chain\n",
      "[1.02906  1.00709  1.06506  0.901484]\n",
      "metric_type: diag_e\n",
      "metric:\n",
      "[[0.598537]\n",
      " [0.545455]\n",
      " [0.435049]\n",
      " [0.557904]]\n"
     ]
    }
   ],
   "source": [
    "print(f'adapted step_size per chain\\n{fit.step_size}\\nmetric_type: {fit.metric_type}\\nmetric:\\n{fit.metric}')"
   ]
  },
  {
   "cell_type": "markdown",
   "metadata": {},
   "source": [
    "### Extracting the sample meta-data"
   ]
  },
  {
   "cell_type": "code",
   "execution_count": 22,
   "metadata": {
    "execution": {
     "iopub.execute_input": "2022-08-22T15:38:14.036793Z",
     "iopub.status.busy": "2022-08-22T15:38:14.036295Z",
     "iopub.status.idle": "2022-08-22T15:38:14.040739Z",
     "shell.execute_reply": "2022-08-22T15:38:14.039960Z"
    }
   },
   "outputs": [
    {
     "name": "stdout",
     "output_type": "stream",
     "text": [
      "sample method variables:\n",
      "dict_keys(['lp__', 'accept_stat__', 'stepsize__', 'treedepth__', 'n_leapfrog__', 'divergent__', 'energy__'])\n",
      "\n",
      "stan model variables:\n",
      "dict_keys(['theta'])\n"
     ]
    }
   ],
   "source": [
    "print('sample method variables:\\n{}\\n'.format(fit.metadata.method_vars_cols.keys()))\n",
    "print('stan model variables:\\n{}'.format(fit.metadata.stan_vars_cols.keys()))"
   ]
  },
  {
   "cell_type": "markdown",
   "metadata": {},
   "source": [
    "## Saving the sampler output files\n",
    "\n",
    "The sampler output files are written to a temporary directory which\n",
    "is deleted upon session exit unless the ``output_dir`` argument is specified.\n",
    "The ``save_csvfiles`` function moves the CmdStan CSV output files\n",
    "to a specified directory without having to re-run the sampler.\n",
    "The console output files are not saved. These files are treated as ephemeral; if the sample is valid, all relevant information is recorded in the CSV files."
   ]
  },
  {
   "cell_type": "markdown",
   "metadata": {},
   "source": [
    "## Parallelization via multi-threaded processing\n",
    "\n",
    "Stan's multi-threaded processing is based on the Intel Threading Building Blocks (TBB) library, which must be linked to by the C++ compiler.   To take advantage of this option, you must compile (or recompile) the program with the the C++ compiler option `STAN_THREADS`.\n",
    "The CmdStanModel object constructor and its `compile` method both have argument `cpp_options`\n",
    "which takes as its value a dictionary of compiler flags.\n",
    "\n",
    "We compile the example model `bernoulli.stan`, this time with arguments `cpp_options` and `compile`, and use the function `exe_info()` to check that the model has been compiled for multi-threading."
   ]
  },
  {
   "cell_type": "code",
   "execution_count": 23,
   "metadata": {
    "execution": {
     "iopub.execute_input": "2022-08-22T15:38:14.045332Z",
     "iopub.status.busy": "2022-08-22T15:38:14.044628Z",
     "iopub.status.idle": "2022-08-22T15:39:52.914893Z",
     "shell.execute_reply": "2022-08-22T15:39:52.914096Z"
    }
   },
   "outputs": [
    {
     "name": "stderr",
     "output_type": "stream",
     "text": [
      "15:38:14 - cmdstanpy - INFO - compiling stan file /home/runner/work/cmdstanpy/cmdstanpy/docsrc/users-guide/examples/bernoulli.stan to exe file /home/runner/work/cmdstanpy/cmdstanpy/docsrc/users-guide/examples/bernoulli\n"
     ]
    },
    {
     "name": "stderr",
     "output_type": "stream",
     "text": [
      "15:39:52 - cmdstanpy - INFO - compiled model executable: /home/runner/work/cmdstanpy/cmdstanpy/docsrc/users-guide/examples/bernoulli\n"
     ]
    },
    {
     "data": {
      "text/plain": [
       "{'stan_version_major': '2',\n",
       " 'stan_version_minor': '30',\n",
       " 'stan_version_patch': '0',\n",
       " 'STAN_THREADS': 'true',\n",
       " 'STAN_MPI': 'false',\n",
       " 'STAN_OPENCL': 'false',\n",
       " 'STAN_NO_RANGE_CHECKS': 'false',\n",
       " 'STAN_CPP_OPTIMS': 'false'}"
      ]
     },
     "execution_count": 23,
     "metadata": {},
     "output_type": "execute_result"
    }
   ],
   "source": [
    "model = CmdStanModel(stan_file='bernoulli.stan',\n",
    "                     cpp_options={'STAN_THREADS': 'TRUE'},\n",
    "                     compile='force')\n",
    "model.exe_info()"
   ]
  },
  {
   "cell_type": "markdown",
   "metadata": {},
   "source": [
    "### Cross-chain multi-threading\n",
    "\n",
    "As of version CmdStan 2.28, it is possible to run the NUTS-HMC sampler on\n",
    "multiple chains from within a single executable using threads.\n",
    "This has the potential to speed up sampling.  It also\n",
    "reduces the overall memory footprint required for sampling as\n",
    "all chains share the same copy of data.the input data.\n",
    "When using within-chain parallelization all chains started\n",
    "within a single executable can share all the available threads\n",
    "and once a chain finishes the threads will be reused.\n",
    "\n",
    "The sample program argument ``parallel_chains`` takes an integer value which\n",
    "specifies how many chains to run in parallel.\n",
    "For models which have been compiled with option `STAN_THREADS` set, all chains are run from\n",
    "within a single process and the value of the ``parallel_chains`` argument specifies the total number of threads."
   ]
  },
  {
   "cell_type": "code",
   "execution_count": 24,
   "metadata": {
    "execution": {
     "iopub.execute_input": "2022-08-22T15:39:52.919042Z",
     "iopub.status.busy": "2022-08-22T15:39:52.918586Z",
     "iopub.status.idle": "2022-08-22T15:39:53.033073Z",
     "shell.execute_reply": "2022-08-22T15:39:53.032126Z"
    }
   },
   "outputs": [
    {
     "name": "stderr",
     "output_type": "stream",
     "text": [
      "15:39:52 - cmdstanpy - INFO - CmdStan start processing\n"
     ]
    },
    {
     "name": "stderr",
     "output_type": "stream",
     "text": [
      "\r",
      "chain 1 |\u001b[33m          \u001b[0m| 00:00 Status"
     ]
    },
    {
     "name": "stderr",
     "output_type": "stream",
     "text": [
      "\n"
     ]
    },
    {
     "name": "stderr",
     "output_type": "stream",
     "text": [
      "\r",
      "chain 2 |\u001b[33m          \u001b[0m| 00:00 Status"
     ]
    },
    {
     "name": "stderr",
     "output_type": "stream",
     "text": [
      "\u001b[A"
     ]
    },
    {
     "name": "stderr",
     "output_type": "stream",
     "text": [
      "\n",
      "\n"
     ]
    },
    {
     "name": "stderr",
     "output_type": "stream",
     "text": [
      "\r",
      "chain 3 |\u001b[33m          \u001b[0m| 00:00 Status"
     ]
    },
    {
     "name": "stderr",
     "output_type": "stream",
     "text": [
      "\u001b[A\u001b[A"
     ]
    },
    {
     "name": "stderr",
     "output_type": "stream",
     "text": [
      "\n",
      "\n",
      "\n"
     ]
    },
    {
     "name": "stderr",
     "output_type": "stream",
     "text": [
      "\r",
      "chain 4 |\u001b[33m          \u001b[0m| 00:00 Status"
     ]
    },
    {
     "name": "stderr",
     "output_type": "stream",
     "text": [
      "\u001b[A\u001b[A\u001b[A"
     ]
    },
    {
     "name": "stderr",
     "output_type": "stream",
     "text": [
      "\r",
      "chain 1 |\u001b[34m██████████\u001b[0m| 00:00 Sampling completed"
     ]
    },
    {
     "name": "stderr",
     "output_type": "stream",
     "text": [
      "\n",
      "\r",
      "chain 2 |\u001b[34m██████████\u001b[0m| 00:00 Sampling completed"
     ]
    },
    {
     "name": "stderr",
     "output_type": "stream",
     "text": [
      "\n",
      "\r",
      "chain 3 |\u001b[34m██████████\u001b[0m| 00:00 Sampling completed"
     ]
    },
    {
     "name": "stderr",
     "output_type": "stream",
     "text": [
      "\n",
      "\r",
      "chain 4 |\u001b[34m██████████\u001b[0m| 00:00 Sampling completed"
     ]
    },
    {
     "name": "stdout",
     "output_type": "stream",
     "text": [
      "                                                                                "
     ]
    },
    {
     "name": "stdout",
     "output_type": "stream",
     "text": [
      "                                                                                "
     ]
    },
    {
     "name": "stdout",
     "output_type": "stream",
     "text": [
      "                                                                                "
     ]
    },
    {
     "name": "stdout",
     "output_type": "stream",
     "text": [
      "                                                                                "
     ]
    },
    {
     "name": "stderr",
     "output_type": "stream",
     "text": [
      "\n",
      "15:39:53 - cmdstanpy - INFO - CmdStan done processing.\n"
     ]
    },
    {
     "name": "stdout",
     "output_type": "stream",
     "text": [
      "\n"
     ]
    }
   ],
   "source": [
    "fit = model.sample(data='bernoulli.data.json', parallel_chains=4)"
   ]
  },
  {
   "cell_type": "markdown",
   "metadata": {},
   "source": [
    "### Within-chain multi-threading\n",
    "\n",
    "The Stan language\n",
    "[reduce_sum](https://mc-stan.org/docs/stan-users-guide/reduce-sum.html)\n",
    "function provides within-chain parallelization.\n",
    "For models which require computing the sum of a number of independent function evaluations,\n",
    "e.g., when evaluating a number of conditionally independent terms in a log-likelihood,\n",
    "the `reduce_sum` function is used to parallelize this computation.\n",
    "\n",
    "To see how this works, we run the \"reflag\" model, used in the \n",
    "[reduce_sum minimal example](https://mc-stan.org/users/documentation/case-studies/reduce_sum_tutorial.html) case study.\n",
    "The Stan model and the original dataset are in files \"redcard_reduce_sum.stan\" and \"redcard.json\"."
   ]
  },
  {
   "cell_type": "code",
   "execution_count": 25,
   "metadata": {
    "execution": {
     "iopub.execute_input": "2022-08-22T15:39:53.037739Z",
     "iopub.status.busy": "2022-08-22T15:39:53.036960Z",
     "iopub.status.idle": "2022-08-22T15:39:53.043266Z",
     "shell.execute_reply": "2022-08-22T15:39:53.042564Z"
    }
   },
   "outputs": [
    {
     "name": "stdout",
     "output_type": "stream",
     "text": [
      "functions {\n",
      "  real partial_sum(array[] int slice_n_redcards, int start, int end,\n",
      "                   array[] int n_games, vector rating, vector beta) {\n",
      "    return binomial_logit_lpmf(slice_n_redcards | n_games[start : end], beta[1]\n",
      "                                                                    + beta[2]\n",
      "                                                                    * rating[start : end]);\n",
      "  }\n",
      "}\n",
      "data {\n",
      "  int<lower=0> N;\n",
      "  array[N] int<lower=0> n_redcards;\n",
      "  array[N] int<lower=0> n_games;\n",
      "  vector[N] rating;\n",
      "  int<lower=1> grainsize;\n",
      "}\n",
      "parameters {\n",
      "  vector[2] beta;\n",
      "}\n",
      "model {\n",
      "  beta[1] ~ normal(0, 10);\n",
      "  beta[2] ~ normal(0, 1);\n",
      "  \n",
      "  target += reduce_sum(partial_sum, n_redcards, grainsize, n_games, rating,\n",
      "                       beta);\n",
      "}\n",
      "\n",
      "\n"
     ]
    }
   ],
   "source": [
    "with open('redcard_reduce_sum.stan', 'r') as fd:\n",
    "    print(fd.read())"
   ]
  },
  {
   "cell_type": "markdown",
   "metadata": {},
   "source": [
    "As before, we compile the model specifying argument `cpp_options`."
   ]
  },
  {
   "cell_type": "code",
   "execution_count": 26,
   "metadata": {
    "execution": {
     "iopub.execute_input": "2022-08-22T15:39:53.046891Z",
     "iopub.status.busy": "2022-08-22T15:39:53.046486Z",
     "iopub.status.idle": "2022-08-22T15:40:17.913070Z",
     "shell.execute_reply": "2022-08-22T15:40:17.912131Z"
    }
   },
   "outputs": [
    {
     "name": "stderr",
     "output_type": "stream",
     "text": [
      "15:39:53 - cmdstanpy - INFO - compiling stan file /home/runner/work/cmdstanpy/cmdstanpy/docsrc/users-guide/examples/redcard_reduce_sum.stan to exe file /home/runner/work/cmdstanpy/cmdstanpy/docsrc/users-guide/examples/redcard_reduce_sum\n"
     ]
    },
    {
     "name": "stderr",
     "output_type": "stream",
     "text": [
      "15:40:17 - cmdstanpy - INFO - compiled model executable: /home/runner/work/cmdstanpy/cmdstanpy/docsrc/users-guide/examples/redcard_reduce_sum\n"
     ]
    },
    {
     "data": {
      "text/plain": [
       "{'stan_version_major': '2',\n",
       " 'stan_version_minor': '30',\n",
       " 'stan_version_patch': '0',\n",
       " 'STAN_THREADS': 'true',\n",
       " 'STAN_MPI': 'false',\n",
       " 'STAN_OPENCL': 'false',\n",
       " 'STAN_NO_RANGE_CHECKS': 'false',\n",
       " 'STAN_CPP_OPTIMS': 'false'}"
      ]
     },
     "execution_count": 26,
     "metadata": {},
     "output_type": "execute_result"
    }
   ],
   "source": [
    "redcard_model = CmdStanModel(stan_file='redcard_reduce_sum.stan',\n",
    "                     cpp_options={'STAN_THREADS': 'TRUE'},\n",
    "                     compile='force')\n",
    "redcard_model.exe_info()"
   ]
  },
  {
   "cell_type": "markdown",
   "metadata": {},
   "source": [
    "The `sample` method argument `threads_per_chain` specifies the number of threads allotted to each chain; this corresponds to CmdStan's `num_threads` argument."
   ]
  },
  {
   "cell_type": "code",
   "execution_count": 27,
   "metadata": {
    "execution": {
     "iopub.execute_input": "2022-08-22T15:40:17.917165Z",
     "iopub.status.busy": "2022-08-22T15:40:17.916746Z",
     "iopub.status.idle": "2022-08-22T15:43:28.088341Z",
     "shell.execute_reply": "2022-08-22T15:43:28.087270Z"
    }
   },
   "outputs": [
    {
     "name": "stderr",
     "output_type": "stream",
     "text": [
      "15:40:17 - cmdstanpy - INFO - CmdStan start processing\n"
     ]
    },
    {
     "name": "stderr",
     "output_type": "stream",
     "text": [
      "\r",
      "chain 1 |\u001b[33m          \u001b[0m| 00:00 Status"
     ]
    },
    {
     "name": "stderr",
     "output_type": "stream",
     "text": [
      "\n"
     ]
    },
    {
     "name": "stderr",
     "output_type": "stream",
     "text": [
      "\r",
      "chain 2 |\u001b[33m          \u001b[0m| 00:00 Status"
     ]
    },
    {
     "name": "stderr",
     "output_type": "stream",
     "text": [
      "\u001b[A"
     ]
    },
    {
     "name": "stderr",
     "output_type": "stream",
     "text": [
      "\n",
      "\n"
     ]
    },
    {
     "name": "stderr",
     "output_type": "stream",
     "text": [
      "\r",
      "chain 3 |\u001b[33m          \u001b[0m| 00:00 Status"
     ]
    },
    {
     "name": "stderr",
     "output_type": "stream",
     "text": [
      "\u001b[A\u001b[A"
     ]
    },
    {
     "name": "stderr",
     "output_type": "stream",
     "text": [
      "\n",
      "\n",
      "\n"
     ]
    },
    {
     "name": "stderr",
     "output_type": "stream",
     "text": [
      "\r",
      "chain 4 |\u001b[33m          \u001b[0m| 00:00 Status"
     ]
    },
    {
     "name": "stderr",
     "output_type": "stream",
     "text": [
      "\u001b[A\u001b[A\u001b[A"
     ]
    },
    {
     "name": "stderr",
     "output_type": "stream",
     "text": [
      "\n",
      "\n"
     ]
    },
    {
     "name": "stderr",
     "output_type": "stream",
     "text": [
      "\r",
      "chain 3 |\u001b[33m▍         \u001b[0m| 00:00 Status"
     ]
    },
    {
     "name": "stderr",
     "output_type": "stream",
     "text": [
      "\u001b[A\u001b[A"
     ]
    },
    {
     "name": "stderr",
     "output_type": "stream",
     "text": [
      "\r",
      "chain 1 |\u001b[33m▍         \u001b[0m| 00:00 Status"
     ]
    },
    {
     "name": "stderr",
     "output_type": "stream",
     "text": [
      "\n",
      "\n"
     ]
    },
    {
     "name": "stderr",
     "output_type": "stream",
     "text": [
      "\r",
      "chain 3 |\u001b[33m▉         \u001b[0m| 00:05 Iteration:    1 / 2000 [  0%]  (Warmup)"
     ]
    },
    {
     "name": "stderr",
     "output_type": "stream",
     "text": [
      "\u001b[A\u001b[A"
     ]
    },
    {
     "name": "stderr",
     "output_type": "stream",
     "text": [
      "\r",
      "chain 1 |\u001b[33m▉         \u001b[0m| 00:05 Iteration:    1 / 2000 [  0%]  (Warmup)"
     ]
    },
    {
     "name": "stderr",
     "output_type": "stream",
     "text": [
      "\n",
      "\n"
     ]
    },
    {
     "name": "stderr",
     "output_type": "stream",
     "text": [
      "\r",
      "chain 3 |\u001b[33m█▎        \u001b[0m| 00:10 Iteration:  100 / 2000 [  5%]  (Warmup)"
     ]
    },
    {
     "name": "stderr",
     "output_type": "stream",
     "text": [
      "\u001b[A\u001b[A"
     ]
    },
    {
     "name": "stderr",
     "output_type": "stream",
     "text": [
      "\r",
      "chain 1 |\u001b[33m█▎        \u001b[0m| 00:10 Iteration:  100 / 2000 [  5%]  (Warmup)"
     ]
    },
    {
     "name": "stderr",
     "output_type": "stream",
     "text": [
      "\r",
      "chain 1 |\u001b[33m█▊        \u001b[0m| 00:15 Iteration:  200 / 2000 [ 10%]  (Warmup)"
     ]
    },
    {
     "name": "stderr",
     "output_type": "stream",
     "text": [
      "\n",
      "\n"
     ]
    },
    {
     "name": "stderr",
     "output_type": "stream",
     "text": [
      "\r",
      "chain 3 |\u001b[33m█▊        \u001b[0m| 00:15 Iteration:  200 / 2000 [ 10%]  (Warmup)"
     ]
    },
    {
     "name": "stderr",
     "output_type": "stream",
     "text": [
      "\u001b[A\u001b[A"
     ]
    },
    {
     "name": "stderr",
     "output_type": "stream",
     "text": [
      "\r",
      "chain 1 |\u001b[33m██▎       \u001b[0m| 00:20 Iteration:  300 / 2000 [ 15%]  (Warmup)"
     ]
    },
    {
     "name": "stderr",
     "output_type": "stream",
     "text": [
      "\n",
      "\n"
     ]
    },
    {
     "name": "stderr",
     "output_type": "stream",
     "text": [
      "\r",
      "chain 3 |\u001b[33m██▎       \u001b[0m| 00:20 Iteration:  300 / 2000 [ 15%]  (Warmup)"
     ]
    },
    {
     "name": "stderr",
     "output_type": "stream",
     "text": [
      "\u001b[A\u001b[A"
     ]
    },
    {
     "name": "stderr",
     "output_type": "stream",
     "text": [
      "\r",
      "chain 1 |\u001b[33m██▋       \u001b[0m| 00:25 Iteration:  400 / 2000 [ 20%]  (Warmup)"
     ]
    },
    {
     "name": "stderr",
     "output_type": "stream",
     "text": [
      "\n",
      "\n"
     ]
    },
    {
     "name": "stderr",
     "output_type": "stream",
     "text": [
      "\r",
      "chain 3 |\u001b[33m██▋       \u001b[0m| 00:26 Iteration:  400 / 2000 [ 20%]  (Warmup)"
     ]
    },
    {
     "name": "stderr",
     "output_type": "stream",
     "text": [
      "\u001b[A\u001b[A"
     ]
    },
    {
     "name": "stderr",
     "output_type": "stream",
     "text": [
      "\r",
      "chain 1 |\u001b[33m███▏      \u001b[0m| 00:29 Iteration:  500 / 2000 [ 25%]  (Warmup)"
     ]
    },
    {
     "name": "stderr",
     "output_type": "stream",
     "text": [
      "\n",
      "\n"
     ]
    },
    {
     "name": "stderr",
     "output_type": "stream",
     "text": [
      "\r",
      "chain 3 |\u001b[33m███▏      \u001b[0m| 00:30 Iteration:  500 / 2000 [ 25%]  (Warmup)"
     ]
    },
    {
     "name": "stderr",
     "output_type": "stream",
     "text": [
      "\u001b[A\u001b[A"
     ]
    },
    {
     "name": "stderr",
     "output_type": "stream",
     "text": [
      "\r",
      "chain 1 |\u001b[33m███▋      \u001b[0m| 00:33 Iteration:  600 / 2000 [ 30%]  (Warmup)"
     ]
    },
    {
     "name": "stderr",
     "output_type": "stream",
     "text": [
      "\n",
      "\n"
     ]
    },
    {
     "name": "stderr",
     "output_type": "stream",
     "text": [
      "\r",
      "chain 3 |\u001b[33m███▋      \u001b[0m| 00:34 Iteration:  600 / 2000 [ 30%]  (Warmup)"
     ]
    },
    {
     "name": "stderr",
     "output_type": "stream",
     "text": [
      "\u001b[A\u001b[A"
     ]
    },
    {
     "name": "stderr",
     "output_type": "stream",
     "text": [
      "\r",
      "chain 1 |\u001b[33m████      \u001b[0m| 00:37 Iteration:  700 / 2000 [ 35%]  (Warmup)"
     ]
    },
    {
     "name": "stderr",
     "output_type": "stream",
     "text": [
      "\n",
      "\n"
     ]
    },
    {
     "name": "stderr",
     "output_type": "stream",
     "text": [
      "\r",
      "chain 3 |\u001b[33m████      \u001b[0m| 00:38 Iteration:  700 / 2000 [ 35%]  (Warmup)"
     ]
    },
    {
     "name": "stderr",
     "output_type": "stream",
     "text": [
      "\u001b[A\u001b[A"
     ]
    },
    {
     "name": "stderr",
     "output_type": "stream",
     "text": [
      "\r",
      "chain 1 |\u001b[33m████▌     \u001b[0m| 00:41 Iteration:  800 / 2000 [ 40%]  (Warmup)"
     ]
    },
    {
     "name": "stderr",
     "output_type": "stream",
     "text": [
      "\n",
      "\n"
     ]
    },
    {
     "name": "stderr",
     "output_type": "stream",
     "text": [
      "\r",
      "chain 3 |\u001b[33m████▌     \u001b[0m| 00:42 Iteration:  800 / 2000 [ 40%]  (Warmup)"
     ]
    },
    {
     "name": "stderr",
     "output_type": "stream",
     "text": [
      "\u001b[A\u001b[A"
     ]
    },
    {
     "name": "stderr",
     "output_type": "stream",
     "text": [
      "\r",
      "chain 1 |\u001b[33m█████     \u001b[0m| 00:46 Iteration:  900 / 2000 [ 45%]  (Warmup)"
     ]
    },
    {
     "name": "stderr",
     "output_type": "stream",
     "text": [
      "\n",
      "\n"
     ]
    },
    {
     "name": "stderr",
     "output_type": "stream",
     "text": [
      "\r",
      "chain 3 |\u001b[33m█████     \u001b[0m| 00:47 Iteration:  900 / 2000 [ 45%]  (Warmup)"
     ]
    },
    {
     "name": "stderr",
     "output_type": "stream",
     "text": [
      "\u001b[A\u001b[A"
     ]
    },
    {
     "name": "stderr",
     "output_type": "stream",
     "text": [
      "\n",
      "\n"
     ]
    },
    {
     "name": "stderr",
     "output_type": "stream",
     "text": [
      "\r",
      "chain 3 |\u001b[34m█████▉    \u001b[0m| 00:52 Iteration: 1001 / 2000 [ 50%]  (Sampling)"
     ]
    },
    {
     "name": "stderr",
     "output_type": "stream",
     "text": [
      "\u001b[A\u001b[A"
     ]
    },
    {
     "name": "stderr",
     "output_type": "stream",
     "text": [
      "\r",
      "chain 1 |\u001b[34m█████▉    \u001b[0m| 00:52 Iteration: 1001 / 2000 [ 50%]  (Sampling)"
     ]
    },
    {
     "name": "stderr",
     "output_type": "stream",
     "text": [
      "\n",
      "\n"
     ]
    },
    {
     "name": "stderr",
     "output_type": "stream",
     "text": [
      "\r",
      "chain 3 |\u001b[34m██████▎   \u001b[0m| 00:57 Iteration: 1100 / 2000 [ 55%]  (Sampling)"
     ]
    },
    {
     "name": "stderr",
     "output_type": "stream",
     "text": [
      "\u001b[A\u001b[A"
     ]
    },
    {
     "name": "stderr",
     "output_type": "stream",
     "text": [
      "\r",
      "chain 1 |\u001b[34m██████▎   \u001b[0m| 00:58 Iteration: 1100 / 2000 [ 55%]  (Sampling)"
     ]
    },
    {
     "name": "stderr",
     "output_type": "stream",
     "text": [
      "\n",
      "\n"
     ]
    },
    {
     "name": "stderr",
     "output_type": "stream",
     "text": [
      "\r",
      "chain 3 |\u001b[34m██████▊   \u001b[0m| 01:02 Iteration: 1200 / 2000 [ 60%]  (Sampling)"
     ]
    },
    {
     "name": "stderr",
     "output_type": "stream",
     "text": [
      "\u001b[A\u001b[A"
     ]
    },
    {
     "name": "stderr",
     "output_type": "stream",
     "text": [
      "\r",
      "chain 1 |\u001b[34m██████▊   \u001b[0m| 01:03 Iteration: 1200 / 2000 [ 60%]  (Sampling)"
     ]
    },
    {
     "name": "stderr",
     "output_type": "stream",
     "text": [
      "\n",
      "\n"
     ]
    },
    {
     "name": "stderr",
     "output_type": "stream",
     "text": [
      "\r",
      "chain 3 |\u001b[34m███████▎  \u001b[0m| 01:06 Iteration: 1300 / 2000 [ 65%]  (Sampling)"
     ]
    },
    {
     "name": "stderr",
     "output_type": "stream",
     "text": [
      "\u001b[A\u001b[A"
     ]
    },
    {
     "name": "stderr",
     "output_type": "stream",
     "text": [
      "\r",
      "chain 1 |\u001b[34m███████▎  \u001b[0m| 01:09 Iteration: 1300 / 2000 [ 65%]  (Sampling)"
     ]
    },
    {
     "name": "stderr",
     "output_type": "stream",
     "text": [
      "\n",
      "\n"
     ]
    },
    {
     "name": "stderr",
     "output_type": "stream",
     "text": [
      "\r",
      "chain 3 |\u001b[34m███████▋  \u001b[0m| 01:12 Iteration: 1400 / 2000 [ 70%]  (Sampling)"
     ]
    },
    {
     "name": "stderr",
     "output_type": "stream",
     "text": [
      "\u001b[A\u001b[A"
     ]
    },
    {
     "name": "stderr",
     "output_type": "stream",
     "text": [
      "\r",
      "chain 1 |\u001b[34m███████▋  \u001b[0m| 01:14 Iteration: 1400 / 2000 [ 70%]  (Sampling)"
     ]
    },
    {
     "name": "stderr",
     "output_type": "stream",
     "text": [
      "\n",
      "\n"
     ]
    },
    {
     "name": "stderr",
     "output_type": "stream",
     "text": [
      "\r",
      "chain 3 |\u001b[34m████████▏ \u001b[0m| 01:16 Iteration: 1500 / 2000 [ 75%]  (Sampling)"
     ]
    },
    {
     "name": "stderr",
     "output_type": "stream",
     "text": [
      "\u001b[A\u001b[A"
     ]
    },
    {
     "name": "stderr",
     "output_type": "stream",
     "text": [
      "\r",
      "chain 1 |\u001b[34m████████▏ \u001b[0m| 01:19 Iteration: 1500 / 2000 [ 75%]  (Sampling)"
     ]
    },
    {
     "name": "stderr",
     "output_type": "stream",
     "text": [
      "\n",
      "\n"
     ]
    },
    {
     "name": "stderr",
     "output_type": "stream",
     "text": [
      "\r",
      "chain 3 |\u001b[34m████████▋ \u001b[0m| 01:21 Iteration: 1600 / 2000 [ 80%]  (Sampling)"
     ]
    },
    {
     "name": "stderr",
     "output_type": "stream",
     "text": [
      "\u001b[A\u001b[A"
     ]
    },
    {
     "name": "stderr",
     "output_type": "stream",
     "text": [
      "\r",
      "chain 1 |\u001b[34m████████▋ \u001b[0m| 01:24 Iteration: 1600 / 2000 [ 80%]  (Sampling)"
     ]
    },
    {
     "name": "stderr",
     "output_type": "stream",
     "text": [
      "\n",
      "\n"
     ]
    },
    {
     "name": "stderr",
     "output_type": "stream",
     "text": [
      "\r",
      "chain 3 |\u001b[34m█████████ \u001b[0m| 01:26 Iteration: 1700 / 2000 [ 85%]  (Sampling)"
     ]
    },
    {
     "name": "stderr",
     "output_type": "stream",
     "text": [
      "\u001b[A\u001b[A"
     ]
    },
    {
     "name": "stderr",
     "output_type": "stream",
     "text": [
      "\r",
      "chain 1 |\u001b[34m█████████ \u001b[0m| 01:30 Iteration: 1700 / 2000 [ 85%]  (Sampling)"
     ]
    },
    {
     "name": "stderr",
     "output_type": "stream",
     "text": [
      "\n",
      "\n"
     ]
    },
    {
     "name": "stderr",
     "output_type": "stream",
     "text": [
      "\r",
      "chain 3 |\u001b[34m█████████▌\u001b[0m| 01:31 Iteration: 1800 / 2000 [ 90%]  (Sampling)"
     ]
    },
    {
     "name": "stderr",
     "output_type": "stream",
     "text": [
      "\u001b[A\u001b[A"
     ]
    },
    {
     "name": "stderr",
     "output_type": "stream",
     "text": [
      "\r",
      "chain 1 |\u001b[34m█████████▌\u001b[0m| 01:36 Iteration: 1800 / 2000 [ 90%]  (Sampling)"
     ]
    },
    {
     "name": "stderr",
     "output_type": "stream",
     "text": [
      "\n",
      "\n"
     ]
    },
    {
     "name": "stderr",
     "output_type": "stream",
     "text": [
      "\r",
      "chain 3 |\u001b[34m██████████\u001b[0m| 01:36 Iteration: 1900 / 2000 [ 95%]  (Sampling)"
     ]
    },
    {
     "name": "stderr",
     "output_type": "stream",
     "text": [
      "\u001b[A\u001b[A"
     ]
    },
    {
     "name": "stderr",
     "output_type": "stream",
     "text": [
      "\n",
      "\n",
      "\n"
     ]
    },
    {
     "name": "stderr",
     "output_type": "stream",
     "text": [
      "\r",
      "chain 4 |\u001b[33m▍         \u001b[0m| 01:36 Status"
     ]
    },
    {
     "name": "stderr",
     "output_type": "stream",
     "text": [
      "\u001b[A\u001b[A\u001b[A"
     ]
    },
    {
     "name": "stderr",
     "output_type": "stream",
     "text": [
      "\r",
      "chain 1 |\u001b[34m██████████\u001b[0m| 01:41 Iteration: 1900 / 2000 [ 95%]  (Sampling)"
     ]
    },
    {
     "name": "stderr",
     "output_type": "stream",
     "text": [
      "\n"
     ]
    },
    {
     "name": "stderr",
     "output_type": "stream",
     "text": [
      "\r",
      "chain 2 |\u001b[33m▍         \u001b[0m| 01:41 Status"
     ]
    },
    {
     "name": "stderr",
     "output_type": "stream",
     "text": [
      "\u001b[A"
     ]
    },
    {
     "name": "stderr",
     "output_type": "stream",
     "text": [
      "\n",
      "\n",
      "\n"
     ]
    },
    {
     "name": "stderr",
     "output_type": "stream",
     "text": [
      "\r",
      "chain 4 |\u001b[33m▉         \u001b[0m| 01:43 Iteration:    1 / 2000 [  0%]  (Warmup)"
     ]
    },
    {
     "name": "stderr",
     "output_type": "stream",
     "text": [
      "\u001b[A\u001b[A\u001b[A"
     ]
    },
    {
     "name": "stderr",
     "output_type": "stream",
     "text": [
      "\n"
     ]
    },
    {
     "name": "stderr",
     "output_type": "stream",
     "text": [
      "\r",
      "chain 2 |\u001b[33m▉         \u001b[0m| 01:48 Iteration:    1 / 2000 [  0%]  (Warmup)"
     ]
    },
    {
     "name": "stderr",
     "output_type": "stream",
     "text": [
      "\u001b[A"
     ]
    },
    {
     "name": "stderr",
     "output_type": "stream",
     "text": [
      "\n",
      "\n",
      "\n"
     ]
    },
    {
     "name": "stderr",
     "output_type": "stream",
     "text": [
      "\r",
      "chain 4 |\u001b[33m█▎        \u001b[0m| 01:48 Iteration:  100 / 2000 [  5%]  (Warmup)"
     ]
    },
    {
     "name": "stderr",
     "output_type": "stream",
     "text": [
      "\u001b[A\u001b[A\u001b[A"
     ]
    },
    {
     "name": "stderr",
     "output_type": "stream",
     "text": [
      "\n",
      "\n",
      "\n"
     ]
    },
    {
     "name": "stderr",
     "output_type": "stream",
     "text": [
      "\r",
      "chain 4 |\u001b[33m█▊        \u001b[0m| 01:54 Iteration:  200 / 2000 [ 10%]  (Warmup)"
     ]
    },
    {
     "name": "stderr",
     "output_type": "stream",
     "text": [
      "\u001b[A\u001b[A\u001b[A"
     ]
    },
    {
     "name": "stderr",
     "output_type": "stream",
     "text": [
      "\n"
     ]
    },
    {
     "name": "stderr",
     "output_type": "stream",
     "text": [
      "\r",
      "chain 2 |\u001b[33m█▎        \u001b[0m| 01:54 Iteration:  100 / 2000 [  5%]  (Warmup)"
     ]
    },
    {
     "name": "stderr",
     "output_type": "stream",
     "text": [
      "\u001b[A"
     ]
    },
    {
     "name": "stderr",
     "output_type": "stream",
     "text": [
      "\n",
      "\n",
      "\n"
     ]
    },
    {
     "name": "stderr",
     "output_type": "stream",
     "text": [
      "\r",
      "chain 4 |\u001b[33m██▎       \u001b[0m| 01:58 Iteration:  300 / 2000 [ 15%]  (Warmup)"
     ]
    },
    {
     "name": "stderr",
     "output_type": "stream",
     "text": [
      "\u001b[A\u001b[A\u001b[A"
     ]
    },
    {
     "name": "stderr",
     "output_type": "stream",
     "text": [
      "\n"
     ]
    },
    {
     "name": "stderr",
     "output_type": "stream",
     "text": [
      "\r",
      "chain 2 |\u001b[33m█▊        \u001b[0m| 01:59 Iteration:  200 / 2000 [ 10%]  (Warmup)"
     ]
    },
    {
     "name": "stderr",
     "output_type": "stream",
     "text": [
      "\u001b[A"
     ]
    },
    {
     "name": "stderr",
     "output_type": "stream",
     "text": [
      "\n",
      "\n",
      "\n"
     ]
    },
    {
     "name": "stderr",
     "output_type": "stream",
     "text": [
      "\r",
      "chain 4 |\u001b[33m██▋       \u001b[0m| 02:03 Iteration:  400 / 2000 [ 20%]  (Warmup)"
     ]
    },
    {
     "name": "stderr",
     "output_type": "stream",
     "text": [
      "\u001b[A\u001b[A\u001b[A"
     ]
    },
    {
     "name": "stderr",
     "output_type": "stream",
     "text": [
      "\n"
     ]
    },
    {
     "name": "stderr",
     "output_type": "stream",
     "text": [
      "\r",
      "chain 2 |\u001b[33m██▎       \u001b[0m| 02:04 Iteration:  300 / 2000 [ 15%]  (Warmup)"
     ]
    },
    {
     "name": "stderr",
     "output_type": "stream",
     "text": [
      "\u001b[A"
     ]
    },
    {
     "name": "stderr",
     "output_type": "stream",
     "text": [
      "\n",
      "\n",
      "\n"
     ]
    },
    {
     "name": "stderr",
     "output_type": "stream",
     "text": [
      "\r",
      "chain 4 |\u001b[33m███▏      \u001b[0m| 02:07 Iteration:  500 / 2000 [ 25%]  (Warmup)"
     ]
    },
    {
     "name": "stderr",
     "output_type": "stream",
     "text": [
      "\u001b[A\u001b[A\u001b[A"
     ]
    },
    {
     "name": "stderr",
     "output_type": "stream",
     "text": [
      "\n"
     ]
    },
    {
     "name": "stderr",
     "output_type": "stream",
     "text": [
      "\r",
      "chain 2 |\u001b[33m██▋       \u001b[0m| 02:09 Iteration:  400 / 2000 [ 20%]  (Warmup)"
     ]
    },
    {
     "name": "stderr",
     "output_type": "stream",
     "text": [
      "\u001b[A"
     ]
    },
    {
     "name": "stderr",
     "output_type": "stream",
     "text": [
      "\n",
      "\n",
      "\n"
     ]
    },
    {
     "name": "stderr",
     "output_type": "stream",
     "text": [
      "\r",
      "chain 4 |\u001b[33m███▋      \u001b[0m| 02:12 Iteration:  600 / 2000 [ 30%]  (Warmup)"
     ]
    },
    {
     "name": "stderr",
     "output_type": "stream",
     "text": [
      "\u001b[A\u001b[A\u001b[A"
     ]
    },
    {
     "name": "stderr",
     "output_type": "stream",
     "text": [
      "\n"
     ]
    },
    {
     "name": "stderr",
     "output_type": "stream",
     "text": [
      "\r",
      "chain 2 |\u001b[33m███▏      \u001b[0m| 02:14 Iteration:  500 / 2000 [ 25%]  (Warmup)"
     ]
    },
    {
     "name": "stderr",
     "output_type": "stream",
     "text": [
      "\u001b[A"
     ]
    },
    {
     "name": "stderr",
     "output_type": "stream",
     "text": [
      "\n",
      "\n",
      "\n"
     ]
    },
    {
     "name": "stderr",
     "output_type": "stream",
     "text": [
      "\r",
      "chain 4 |\u001b[33m████      \u001b[0m| 02:16 Iteration:  700 / 2000 [ 35%]  (Warmup)"
     ]
    },
    {
     "name": "stderr",
     "output_type": "stream",
     "text": [
      "\u001b[A\u001b[A\u001b[A"
     ]
    },
    {
     "name": "stderr",
     "output_type": "stream",
     "text": [
      "\n"
     ]
    },
    {
     "name": "stderr",
     "output_type": "stream",
     "text": [
      "\r",
      "chain 2 |\u001b[33m███▋      \u001b[0m| 02:17 Iteration:  600 / 2000 [ 30%]  (Warmup)"
     ]
    },
    {
     "name": "stderr",
     "output_type": "stream",
     "text": [
      "\u001b[A"
     ]
    },
    {
     "name": "stderr",
     "output_type": "stream",
     "text": [
      "\n",
      "\n",
      "\n"
     ]
    },
    {
     "name": "stderr",
     "output_type": "stream",
     "text": [
      "\r",
      "chain 4 |\u001b[33m████▌     \u001b[0m| 02:19 Iteration:  800 / 2000 [ 40%]  (Warmup)"
     ]
    },
    {
     "name": "stderr",
     "output_type": "stream",
     "text": [
      "\u001b[A\u001b[A\u001b[A"
     ]
    },
    {
     "name": "stderr",
     "output_type": "stream",
     "text": [
      "\n"
     ]
    },
    {
     "name": "stderr",
     "output_type": "stream",
     "text": [
      "\r",
      "chain 2 |\u001b[33m████      \u001b[0m| 02:21 Iteration:  700 / 2000 [ 35%]  (Warmup)"
     ]
    },
    {
     "name": "stderr",
     "output_type": "stream",
     "text": [
      "\u001b[A"
     ]
    },
    {
     "name": "stderr",
     "output_type": "stream",
     "text": [
      "\n",
      "\n",
      "\n"
     ]
    },
    {
     "name": "stderr",
     "output_type": "stream",
     "text": [
      "\r",
      "chain 4 |\u001b[33m█████     \u001b[0m| 02:24 Iteration:  900 / 2000 [ 45%]  (Warmup)"
     ]
    },
    {
     "name": "stderr",
     "output_type": "stream",
     "text": [
      "\u001b[A\u001b[A\u001b[A"
     ]
    },
    {
     "name": "stderr",
     "output_type": "stream",
     "text": [
      "\n"
     ]
    },
    {
     "name": "stderr",
     "output_type": "stream",
     "text": [
      "\r",
      "chain 2 |\u001b[33m████▌     \u001b[0m| 02:25 Iteration:  800 / 2000 [ 40%]  (Warmup)"
     ]
    },
    {
     "name": "stderr",
     "output_type": "stream",
     "text": [
      "\u001b[A"
     ]
    },
    {
     "name": "stderr",
     "output_type": "stream",
     "text": [
      "\n",
      "\n",
      "\n"
     ]
    },
    {
     "name": "stderr",
     "output_type": "stream",
     "text": [
      "\r",
      "chain 4 |\u001b[34m█████▉    \u001b[0m| 02:29 Iteration: 1001 / 2000 [ 50%]  (Sampling)"
     ]
    },
    {
     "name": "stderr",
     "output_type": "stream",
     "text": [
      "\u001b[A\u001b[A\u001b[A"
     ]
    },
    {
     "name": "stderr",
     "output_type": "stream",
     "text": [
      "\n"
     ]
    },
    {
     "name": "stderr",
     "output_type": "stream",
     "text": [
      "\r",
      "chain 2 |\u001b[33m█████     \u001b[0m| 02:30 Iteration:  900 / 2000 [ 45%]  (Warmup)"
     ]
    },
    {
     "name": "stderr",
     "output_type": "stream",
     "text": [
      "\u001b[A"
     ]
    },
    {
     "name": "stderr",
     "output_type": "stream",
     "text": [
      "\n",
      "\n",
      "\n"
     ]
    },
    {
     "name": "stderr",
     "output_type": "stream",
     "text": [
      "\r",
      "chain 4 |\u001b[34m██████▎   \u001b[0m| 02:33 Iteration: 1100 / 2000 [ 55%]  (Sampling)"
     ]
    },
    {
     "name": "stderr",
     "output_type": "stream",
     "text": [
      "\u001b[A\u001b[A\u001b[A"
     ]
    },
    {
     "name": "stderr",
     "output_type": "stream",
     "text": [
      "\n"
     ]
    },
    {
     "name": "stderr",
     "output_type": "stream",
     "text": [
      "\r",
      "chain 2 |\u001b[34m█████▉    \u001b[0m| 02:34 Iteration: 1001 / 2000 [ 50%]  (Sampling)"
     ]
    },
    {
     "name": "stderr",
     "output_type": "stream",
     "text": [
      "\u001b[A"
     ]
    },
    {
     "name": "stderr",
     "output_type": "stream",
     "text": [
      "\n",
      "\n",
      "\n"
     ]
    },
    {
     "name": "stderr",
     "output_type": "stream",
     "text": [
      "\r",
      "chain 4 |\u001b[34m██████▊   \u001b[0m| 02:37 Iteration: 1200 / 2000 [ 60%]  (Sampling)"
     ]
    },
    {
     "name": "stderr",
     "output_type": "stream",
     "text": [
      "\u001b[A\u001b[A\u001b[A"
     ]
    },
    {
     "name": "stderr",
     "output_type": "stream",
     "text": [
      "\n"
     ]
    },
    {
     "name": "stderr",
     "output_type": "stream",
     "text": [
      "\r",
      "chain 2 |\u001b[34m██████▎   \u001b[0m| 02:39 Iteration: 1100 / 2000 [ 55%]  (Sampling)"
     ]
    },
    {
     "name": "stderr",
     "output_type": "stream",
     "text": [
      "\u001b[A"
     ]
    },
    {
     "name": "stderr",
     "output_type": "stream",
     "text": [
      "\n",
      "\n",
      "\n"
     ]
    },
    {
     "name": "stderr",
     "output_type": "stream",
     "text": [
      "\r",
      "chain 4 |\u001b[34m███████▎  \u001b[0m| 02:41 Iteration: 1300 / 2000 [ 65%]  (Sampling)"
     ]
    },
    {
     "name": "stderr",
     "output_type": "stream",
     "text": [
      "\u001b[A\u001b[A\u001b[A"
     ]
    },
    {
     "name": "stderr",
     "output_type": "stream",
     "text": [
      "\n"
     ]
    },
    {
     "name": "stderr",
     "output_type": "stream",
     "text": [
      "\r",
      "chain 2 |\u001b[34m██████▊   \u001b[0m| 02:43 Iteration: 1200 / 2000 [ 60%]  (Sampling)"
     ]
    },
    {
     "name": "stderr",
     "output_type": "stream",
     "text": [
      "\u001b[A"
     ]
    },
    {
     "name": "stderr",
     "output_type": "stream",
     "text": [
      "\n",
      "\n",
      "\n"
     ]
    },
    {
     "name": "stderr",
     "output_type": "stream",
     "text": [
      "\r",
      "chain 4 |\u001b[34m███████▋  \u001b[0m| 02:45 Iteration: 1400 / 2000 [ 70%]  (Sampling)"
     ]
    },
    {
     "name": "stderr",
     "output_type": "stream",
     "text": [
      "\u001b[A\u001b[A\u001b[A"
     ]
    },
    {
     "name": "stderr",
     "output_type": "stream",
     "text": [
      "\n"
     ]
    },
    {
     "name": "stderr",
     "output_type": "stream",
     "text": [
      "\r",
      "chain 2 |\u001b[34m███████▎  \u001b[0m| 02:47 Iteration: 1300 / 2000 [ 65%]  (Sampling)"
     ]
    },
    {
     "name": "stderr",
     "output_type": "stream",
     "text": [
      "\u001b[A"
     ]
    },
    {
     "name": "stderr",
     "output_type": "stream",
     "text": [
      "\n",
      "\n",
      "\n"
     ]
    },
    {
     "name": "stderr",
     "output_type": "stream",
     "text": [
      "\r",
      "chain 4 |\u001b[34m████████▏ \u001b[0m| 02:50 Iteration: 1500 / 2000 [ 75%]  (Sampling)"
     ]
    },
    {
     "name": "stderr",
     "output_type": "stream",
     "text": [
      "\u001b[A\u001b[A\u001b[A"
     ]
    },
    {
     "name": "stderr",
     "output_type": "stream",
     "text": [
      "\n"
     ]
    },
    {
     "name": "stderr",
     "output_type": "stream",
     "text": [
      "\r",
      "chain 2 |\u001b[34m███████▋  \u001b[0m| 02:51 Iteration: 1400 / 2000 [ 70%]  (Sampling)"
     ]
    },
    {
     "name": "stderr",
     "output_type": "stream",
     "text": [
      "\u001b[A"
     ]
    },
    {
     "name": "stderr",
     "output_type": "stream",
     "text": [
      "\n",
      "\n",
      "\n"
     ]
    },
    {
     "name": "stderr",
     "output_type": "stream",
     "text": [
      "\r",
      "chain 4 |\u001b[34m████████▋ \u001b[0m| 02:54 Iteration: 1600 / 2000 [ 80%]  (Sampling)"
     ]
    },
    {
     "name": "stderr",
     "output_type": "stream",
     "text": [
      "\u001b[A\u001b[A\u001b[A"
     ]
    },
    {
     "name": "stderr",
     "output_type": "stream",
     "text": [
      "\n"
     ]
    },
    {
     "name": "stderr",
     "output_type": "stream",
     "text": [
      "\r",
      "chain 2 |\u001b[34m████████▏ \u001b[0m| 02:55 Iteration: 1500 / 2000 [ 75%]  (Sampling)"
     ]
    },
    {
     "name": "stderr",
     "output_type": "stream",
     "text": [
      "\u001b[A"
     ]
    },
    {
     "name": "stderr",
     "output_type": "stream",
     "text": [
      "\n",
      "\n",
      "\n"
     ]
    },
    {
     "name": "stderr",
     "output_type": "stream",
     "text": [
      "\r",
      "chain 4 |\u001b[34m█████████ \u001b[0m| 02:58 Iteration: 1700 / 2000 [ 85%]  (Sampling)"
     ]
    },
    {
     "name": "stderr",
     "output_type": "stream",
     "text": [
      "\u001b[A\u001b[A\u001b[A"
     ]
    },
    {
     "name": "stderr",
     "output_type": "stream",
     "text": [
      "\n"
     ]
    },
    {
     "name": "stderr",
     "output_type": "stream",
     "text": [
      "\r",
      "chain 2 |\u001b[34m████████▋ \u001b[0m| 02:59 Iteration: 1600 / 2000 [ 80%]  (Sampling)"
     ]
    },
    {
     "name": "stderr",
     "output_type": "stream",
     "text": [
      "\u001b[A"
     ]
    },
    {
     "name": "stderr",
     "output_type": "stream",
     "text": [
      "\n",
      "\n",
      "\n"
     ]
    },
    {
     "name": "stderr",
     "output_type": "stream",
     "text": [
      "\r",
      "chain 4 |\u001b[34m█████████▌\u001b[0m| 03:02 Iteration: 1800 / 2000 [ 90%]  (Sampling)"
     ]
    },
    {
     "name": "stderr",
     "output_type": "stream",
     "text": [
      "\u001b[A\u001b[A\u001b[A"
     ]
    },
    {
     "name": "stderr",
     "output_type": "stream",
     "text": [
      "\n"
     ]
    },
    {
     "name": "stderr",
     "output_type": "stream",
     "text": [
      "\r",
      "chain 2 |\u001b[34m█████████ \u001b[0m| 03:04 Iteration: 1700 / 2000 [ 85%]  (Sampling)"
     ]
    },
    {
     "name": "stderr",
     "output_type": "stream",
     "text": [
      "\u001b[A"
     ]
    },
    {
     "name": "stderr",
     "output_type": "stream",
     "text": [
      "\n",
      "\n",
      "\n"
     ]
    },
    {
     "name": "stderr",
     "output_type": "stream",
     "text": [
      "\r",
      "chain 4 |\u001b[34m██████████\u001b[0m| 03:07 Iteration: 1900 / 2000 [ 95%]  (Sampling)"
     ]
    },
    {
     "name": "stderr",
     "output_type": "stream",
     "text": [
      "\u001b[A\u001b[A\u001b[A"
     ]
    },
    {
     "name": "stderr",
     "output_type": "stream",
     "text": [
      "\n"
     ]
    },
    {
     "name": "stderr",
     "output_type": "stream",
     "text": [
      "\r",
      "chain 2 |\u001b[34m█████████▌\u001b[0m| 03:07 Iteration: 1800 / 2000 [ 90%]  (Sampling)"
     ]
    },
    {
     "name": "stderr",
     "output_type": "stream",
     "text": [
      "\u001b[A"
     ]
    },
    {
     "name": "stderr",
     "output_type": "stream",
     "text": [
      "\n"
     ]
    },
    {
     "name": "stderr",
     "output_type": "stream",
     "text": [
      "\r",
      "chain 2 |\u001b[34m██████████\u001b[0m| 03:10 Iteration: 1900 / 2000 [ 95%]  (Sampling)"
     ]
    },
    {
     "name": "stderr",
     "output_type": "stream",
     "text": [
      "\u001b[A"
     ]
    },
    {
     "name": "stderr",
     "output_type": "stream",
     "text": [
      "\r",
      "chain 1 |\u001b[34m██████████\u001b[0m| 03:10 Sampling completed                       "
     ]
    },
    {
     "name": "stderr",
     "output_type": "stream",
     "text": [
      "\n",
      "\r",
      "chain 2 |\u001b[34m██████████\u001b[0m| 03:10 Sampling completed                       "
     ]
    },
    {
     "name": "stderr",
     "output_type": "stream",
     "text": [
      "\n",
      "\r",
      "chain 3 |\u001b[34m██████████\u001b[0m| 03:10 Sampling completed                       "
     ]
    },
    {
     "name": "stderr",
     "output_type": "stream",
     "text": [
      "\n",
      "\r",
      "chain 4 |\u001b[34m██████████\u001b[0m| 03:10 Sampling completed                       "
     ]
    },
    {
     "name": "stdout",
     "output_type": "stream",
     "text": [
      "                                                                                "
     ]
    },
    {
     "name": "stdout",
     "output_type": "stream",
     "text": [
      "                                                                                "
     ]
    },
    {
     "name": "stdout",
     "output_type": "stream",
     "text": [
      "                                                                                "
     ]
    },
    {
     "name": "stdout",
     "output_type": "stream",
     "text": [
      "                                                                                "
     ]
    },
    {
     "name": "stderr",
     "output_type": "stream",
     "text": [
      "\n",
      "15:43:28 - cmdstanpy - INFO - CmdStan done processing.\n"
     ]
    },
    {
     "name": "stdout",
     "output_type": "stream",
     "text": [
      "\n"
     ]
    }
   ],
   "source": [
    "redcard_fit = redcard_model.sample(data='redcard.json', threads_per_chain=4)"
   ]
  },
  {
   "cell_type": "markdown",
   "metadata": {},
   "source": [
    "The number of threads to use is passed to the model exe file by means of the shell environment variable `STAN_NUM_THREADS`.\n",
    "\n",
    "On my machine, which has 4 cores, all 4 chains are run in parallel from within a single process.\n",
    "Therefore, the total number of threads used by this process will be `threads_per_chain` * `chains`.\n",
    "To check this, we examine the shell environment variable `STAN_NUM_THREADS`."
   ]
  },
  {
   "cell_type": "code",
   "execution_count": 28,
   "metadata": {
    "execution": {
     "iopub.execute_input": "2022-08-22T15:43:28.092248Z",
     "iopub.status.busy": "2022-08-22T15:43:28.091744Z",
     "iopub.status.idle": "2022-08-22T15:43:28.097323Z",
     "shell.execute_reply": "2022-08-22T15:43:28.096591Z"
    }
   },
   "outputs": [
    {
     "data": {
      "text/plain": [
       "'8'"
      ]
     },
     "execution_count": 28,
     "metadata": {},
     "output_type": "execute_result"
    }
   ],
   "source": [
    "os.environ['STAN_NUM_THREADS']"
   ]
  },
  {
   "cell_type": "code",
   "execution_count": null,
   "metadata": {},
   "outputs": [],
   "source": []
  }
 ],
 "metadata": {
  "kernelspec": {
   "display_name": "Python 3 (ipykernel)",
   "language": "python",
   "name": "python3"
  },
  "language_info": {
   "codemirror_mode": {
    "name": "ipython",
    "version": 3
   },
   "file_extension": ".py",
   "mimetype": "text/x-python",
   "name": "python",
   "nbconvert_exporter": "python",
   "pygments_lexer": "ipython3",
   "version": "3.9.13"
  }
 },
 "nbformat": 4,
 "nbformat_minor": 4
}

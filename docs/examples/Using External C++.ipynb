{
 "cells": [
  {
   "cell_type": "markdown",
   "metadata": {},
   "source": [
    "# Advanced Topic: Using External C++ Functions\n",
    "\n",
    "This is based on the relevant portion of the CmdStan documentation [here](https://mc-stan.org/docs/cmdstan-guide/using-external-cpp-code.html)"
   ]
  },
  {
   "cell_type": "markdown",
   "metadata": {},
   "source": [
    "Consider the following Stan model, based on the bernoulli example."
   ]
  },
  {
   "cell_type": "code",
   "execution_count": 1,
   "metadata": {
    "execution": {
     "iopub.execute_input": "2022-06-30T20:25:18.203831Z",
     "iopub.status.busy": "2022-06-30T20:25:18.203291Z",
     "iopub.status.idle": "2022-06-30T20:25:18.210550Z",
     "shell.execute_reply": "2022-06-30T20:25:18.210000Z"
    },
    "nbsphinx": "hidden"
   },
   "outputs": [],
   "source": [
    "import os\n",
    "try:\n",
    "    os.remove('bernoulli_external')\n",
    "except:\n",
    "    pass"
   ]
  },
  {
   "cell_type": "code",
   "execution_count": 2,
   "metadata": {
    "execution": {
     "iopub.execute_input": "2022-06-30T20:25:18.213379Z",
     "iopub.status.busy": "2022-06-30T20:25:18.213173Z",
     "iopub.status.idle": "2022-06-30T20:25:18.546742Z",
     "shell.execute_reply": "2022-06-30T20:25:18.545715Z"
    }
   },
   "outputs": [
    {
     "name": "stderr",
     "output_type": "stream",
     "text": [
      "/opt/hostedtoolcache/Python/3.9.13/x64/lib/python3.9/site-packages/tqdm/auto.py:22: TqdmWarning: IProgress not found. Please update jupyter and ipywidgets. See https://ipywidgets.readthedocs.io/en/stable/user_install.html\n",
      "  from .autonotebook import tqdm as notebook_tqdm\n"
     ]
    },
    {
     "name": "stdout",
     "output_type": "stream",
     "text": [
      "\n"
     ]
    }
   ],
   "source": [
    "from cmdstanpy import CmdStanModel\n",
    "model_external = CmdStanModel(stan_file='bernoulli_external.stan', compile=False)\n",
    "print(model_external.code())"
   ]
  },
  {
   "cell_type": "markdown",
   "metadata": {},
   "source": [
    "As you can see, it features a function declaration for `make_odds`, but no definition. If we try to compile this, we will get an error. "
   ]
  },
  {
   "cell_type": "code",
   "execution_count": 3,
   "metadata": {
    "execution": {
     "iopub.execute_input": "2022-06-30T20:25:18.550486Z",
     "iopub.status.busy": "2022-06-30T20:25:18.549770Z",
     "iopub.status.idle": "2022-06-30T20:25:24.101818Z",
     "shell.execute_reply": "2022-06-30T20:25:24.101154Z"
    }
   },
   "outputs": [
    {
     "name": "stderr",
     "output_type": "stream",
     "text": [
      "20:25:18 - cmdstanpy - INFO - compiling stan file /home/runner/work/cmdstanpy/cmdstanpy/docsrc/examples/bernoulli_external.stan to exe file /home/runner/work/cmdstanpy/cmdstanpy/docsrc/examples/bernoulli_external\n"
     ]
    },
    {
     "name": "stderr",
     "output_type": "stream",
     "text": [
      "20:25:24 - cmdstanpy - INFO - compiled model executable: /home/runner/work/cmdstanpy/cmdstanpy/docsrc/examples/bernoulli_external\n"
     ]
    },
    {
     "name": "stderr",
     "output_type": "stream",
     "text": [
      "20:25:24 - cmdstanpy - WARNING - Stan compiler has produced 1 warnings:\n"
     ]
    },
    {
     "name": "stderr",
     "output_type": "stream",
     "text": [
      "20:25:24 - cmdstanpy - WARNING - make[2]: Entering directory '/home/runner/.cmdstan/cmdstan-2.29.2'\n",
      "\n",
      "--- Translating Stan model to C++ code ---\n",
      "bin/stanc  --o=/home/runner/work/cmdstanpy/cmdstanpy/docsrc/examples/bernoulli_external.hpp /home/runner/work/cmdstanpy/cmdstanpy/docsrc/examples/bernoulli_external.stan\n",
      "Warning: Empty file\n",
      "    '/home/runner/work/cmdstanpy/cmdstanpy/docsrc/examples/bernoulli_external.stan'\n",
      "    detected; this is a valid stan model but likely unintended!\n",
      "\n",
      "--- Compiling, linking C++ code ---\n",
      "g++ -std=c++1y -pthread -D_REENTRANT -Wno-sign-compare -Wno-ignored-attributes      -I stan/lib/stan_math/lib/tbb_2020.3/include    -O3 -I src -I stan/src -I lib/rapidjson_1.1.0/ -I lib/CLI11-1.9.1/ -I stan/lib/stan_math/ -I stan/lib/stan_math/lib/eigen_3.3.9 -I stan/lib/stan_math/lib/boost_1.75.0 -I stan/lib/stan_math/lib/sundials_6.0.0/include -I stan/lib/stan_math/lib/sundials_6.0.0/src/sundials    -DBOOST_DISABLE_ASSERTS          -c -Wno-ignored-attributes   -x c++ -o /home/runner/work/cmdstanpy/cmdstanpy/docsrc/examples/bernoulli_external.o /home/runner/work/cmdstanpy/cmdstanpy/docsrc/examples/bernoulli_external.hpp\n",
      "g++ -std=c++1y -pthread -D_REENTRANT -Wno-sign-compare -Wno-ignored-attributes      -I stan/lib/stan_math/lib/tbb_2020.3/include    -O3 -I src -I stan/src -I lib/rapidjson_1.1.0/ -I lib/CLI11-1.9.1/ -I stan/lib/stan_math/ -I stan/lib/stan_math/lib/eigen_3.3.9 -I stan/lib/stan_math/lib/boost_1.75.0 -I stan/lib/stan_math/lib/sundials_6.0.0/include -I stan/lib/stan_math/lib/sundials_6.0.0/src/sundials    -DBOOST_DISABLE_ASSERTS                -Wl,-L,\"/home/runner/.cmdstan/cmdstan-2.29.2/stan/lib/stan_math/lib/tbb\" -Wl,-rpath,\"/home/runner/.cmdstan/cmdstan-2.29.2/stan/lib/stan_math/lib/tbb\"      /home/runner/work/cmdstanpy/cmdstanpy/docsrc/examples/bernoulli_external.o src/cmdstan/main.o        -Wl,-L,\"/home/runner/.cmdstan/cmdstan-2.29.2/stan/lib/stan_math/lib/tbb\" -Wl,-rpath,\"/home/runner/.cmdstan/cmdstan-2.29.2/stan/lib/stan_math/lib/tbb\"   stan/lib/stan_math/lib/sundials_6.0.0/lib/libsundials_nvecserial.a stan/lib/stan_math/lib/sundials_6.0.0/lib/libsundials_cvodes.a stan/lib/stan_math/lib/sundials_6.0.0/lib/libsundials_idas.a stan/lib/stan_math/lib/sundials_6.0.0/lib/libsundials_kinsol.a  stan/lib/stan_math/lib/tbb/libtbb.so.2 -o /home/runner/work/cmdstanpy/cmdstanpy/docsrc/examples/bernoulli_external\n",
      "rm -f /home/runner/work/cmdstanpy/cmdstanpy/docsrc/examples/bernoulli_external.o\n",
      "make[2]: Leaving directory '/home/runner/.cmdstan/cmdstan-2.29.2'\n",
      "\n"
     ]
    }
   ],
   "source": [
    "model_external.compile()"
   ]
  },
  {
   "cell_type": "markdown",
   "metadata": {},
   "source": [
    "Even enabling the `--allow-undefined` flag to stanc3 will not allow this model to be compiled quite yet."
   ]
  },
  {
   "cell_type": "code",
   "execution_count": 4,
   "metadata": {
    "execution": {
     "iopub.execute_input": "2022-06-30T20:25:24.105203Z",
     "iopub.status.busy": "2022-06-30T20:25:24.104747Z",
     "iopub.status.idle": "2022-06-30T20:25:24.375305Z",
     "shell.execute_reply": "2022-06-30T20:25:24.374603Z"
    }
   },
   "outputs": [
    {
     "name": "stderr",
     "output_type": "stream",
     "text": [
      "20:25:24 - cmdstanpy - INFO - compiling stan file /home/runner/work/cmdstanpy/cmdstanpy/docsrc/examples/bernoulli_external.stan to exe file /home/runner/work/cmdstanpy/cmdstanpy/docsrc/examples/bernoulli_external\n"
     ]
    },
    {
     "name": "stderr",
     "output_type": "stream",
     "text": [
      "20:25:24 - cmdstanpy - WARNING - Stan compiler has produced 1 warnings:\n"
     ]
    },
    {
     "name": "stderr",
     "output_type": "stream",
     "text": [
      "20:25:24 - cmdstanpy - WARNING - make[2]: Entering directory '/home/runner/.cmdstan/cmdstan-2.29.2'\n",
      "\n",
      "--- Translating Stan model to C++ code ---\n",
      "bin/stanc --allow-undefined --o=/home/runner/work/cmdstanpy/cmdstanpy/docsrc/examples/bernoulli_external.hpp /home/runner/work/cmdstanpy/cmdstanpy/docsrc/examples/bernoulli_external.stan\n",
      "Warning: Empty file\n",
      "    '/home/runner/work/cmdstanpy/cmdstanpy/docsrc/examples/bernoulli_external.stan'\n",
      "    detected; this is a valid stan model but likely unintended!\n",
      "\n",
      "--- Compiling, linking C++ code ---\n",
      "g++ -std=c++1y -pthread -D_REENTRANT -Wno-sign-compare -Wno-ignored-attributes      -I stan/lib/stan_math/lib/tbb_2020.3/include    -O3 -I src -I stan/src -I lib/rapidjson_1.1.0/ -I lib/CLI11-1.9.1/ -I stan/lib/stan_math/ -I stan/lib/stan_math/lib/eigen_3.3.9 -I stan/lib/stan_math/lib/boost_1.75.0 -I stan/lib/stan_math/lib/sundials_6.0.0/include -I stan/lib/stan_math/lib/sundials_6.0.0/src/sundials    -DBOOST_DISABLE_ASSERTS          -c -Wno-ignored-attributes   -include /home/runner/work/cmdstanpy/cmdstanpy/docsrc/examples/user_header.hpp -x c++ -o /home/runner/work/cmdstanpy/cmdstanpy/docsrc/examples/bernoulli_external.o /home/runner/work/cmdstanpy/cmdstanpy/docsrc/examples/bernoulli_external.hpp\n",
      "cc1plus: fatal error: /home/runner/work/cmdstanpy/cmdstanpy/docsrc/examples/user_header.hpp: No such file or directory\n",
      "compilation terminated.\n",
      "make[2]: *** [make/program:58: /home/runner/work/cmdstanpy/cmdstanpy/docsrc/examples/bernoulli_external] Error 1\n",
      "make[2]: Leaving directory '/home/runner/.cmdstan/cmdstan-2.29.2'\n",
      "\n",
      "Command ['make', 'STANCFLAGS+=--allow-undefined', '/home/runner/work/cmdstanpy/cmdstanpy/docsrc/examples/bernoulli_external']\n",
      "\terror during processing No such file or directory\n",
      "\n"
     ]
    }
   ],
   "source": [
    "model_external.compile(stanc_options={'allow-undefined':True})"
   ]
  },
  {
   "cell_type": "markdown",
   "metadata": {},
   "source": [
    "To resolve this, we need to both tell the Stan compiler an undefined function is okay **and** let C++ know what it should be. \n",
    "\n",
    "We can provide a definition in a C++ header file by using the `user_header` argument to either the CmdStanModel constructor or the `compile` method. \n",
    "\n",
    "This will enables the `allow-undefined` flag automatically."
   ]
  },
  {
   "cell_type": "code",
   "execution_count": 5,
   "metadata": {
    "execution": {
     "iopub.execute_input": "2022-06-30T20:25:24.378530Z",
     "iopub.status.busy": "2022-06-30T20:25:24.378290Z",
     "iopub.status.idle": "2022-06-30T20:25:39.414467Z",
     "shell.execute_reply": "2022-06-30T20:25:39.413791Z"
    }
   },
   "outputs": [
    {
     "name": "stderr",
     "output_type": "stream",
     "text": [
      "20:25:24 - cmdstanpy - INFO - compiling stan file /home/runner/work/cmdstanpy/cmdstanpy/docsrc/examples/bernoulli_external.stan to exe file /home/runner/work/cmdstanpy/cmdstanpy/docsrc/examples/bernoulli_external\n"
     ]
    },
    {
     "name": "stderr",
     "output_type": "stream",
     "text": [
      "20:25:39 - cmdstanpy - INFO - compiled model executable: /home/runner/work/cmdstanpy/cmdstanpy/docsrc/examples/bernoulli_external\n"
     ]
    },
    {
     "name": "stderr",
     "output_type": "stream",
     "text": [
      "20:25:39 - cmdstanpy - WARNING - Stan compiler has produced 1 warnings:\n"
     ]
    },
    {
     "name": "stderr",
     "output_type": "stream",
     "text": [
      "20:25:39 - cmdstanpy - WARNING - make[2]: Entering directory '/home/runner/.cmdstan/cmdstan-2.29.2'\n",
      "\n",
      "--- Translating Stan model to C++ code ---\n",
      "bin/stanc --allow-undefined --o=/home/runner/work/cmdstanpy/cmdstanpy/docsrc/examples/bernoulli_external.hpp /home/runner/work/cmdstanpy/cmdstanpy/docsrc/examples/bernoulli_external.stan\n",
      "Warning: Empty file\n",
      "    '/home/runner/work/cmdstanpy/cmdstanpy/docsrc/examples/bernoulli_external.stan'\n",
      "    detected; this is a valid stan model but likely unintended!\n",
      "\n",
      "--- Compiling, linking C++ code ---\n",
      "g++ -std=c++1y -pthread -D_REENTRANT -Wno-sign-compare -Wno-ignored-attributes      -I stan/lib/stan_math/lib/tbb_2020.3/include    -O3 -I src -I stan/src -I lib/rapidjson_1.1.0/ -I lib/CLI11-1.9.1/ -I stan/lib/stan_math/ -I stan/lib/stan_math/lib/eigen_3.3.9 -I stan/lib/stan_math/lib/boost_1.75.0 -I stan/lib/stan_math/lib/sundials_6.0.0/include -I stan/lib/stan_math/lib/sundials_6.0.0/src/sundials    -DBOOST_DISABLE_ASSERTS          -c -Wno-ignored-attributes   -include /home/runner/work/cmdstanpy/cmdstanpy/docsrc/examples/make_odds.hpp -x c++ -o /home/runner/work/cmdstanpy/cmdstanpy/docsrc/examples/bernoulli_external.o /home/runner/work/cmdstanpy/cmdstanpy/docsrc/examples/bernoulli_external.hpp\n",
      "g++ -std=c++1y -pthread -D_REENTRANT -Wno-sign-compare -Wno-ignored-attributes      -I stan/lib/stan_math/lib/tbb_2020.3/include    -O3 -I src -I stan/src -I lib/rapidjson_1.1.0/ -I lib/CLI11-1.9.1/ -I stan/lib/stan_math/ -I stan/lib/stan_math/lib/eigen_3.3.9 -I stan/lib/stan_math/lib/boost_1.75.0 -I stan/lib/stan_math/lib/sundials_6.0.0/include -I stan/lib/stan_math/lib/sundials_6.0.0/src/sundials    -DBOOST_DISABLE_ASSERTS                -Wl,-L,\"/home/runner/.cmdstan/cmdstan-2.29.2/stan/lib/stan_math/lib/tbb\" -Wl,-rpath,\"/home/runner/.cmdstan/cmdstan-2.29.2/stan/lib/stan_math/lib/tbb\"      /home/runner/work/cmdstanpy/cmdstanpy/docsrc/examples/bernoulli_external.o src/cmdstan/main.o        -Wl,-L,\"/home/runner/.cmdstan/cmdstan-2.29.2/stan/lib/stan_math/lib/tbb\" -Wl,-rpath,\"/home/runner/.cmdstan/cmdstan-2.29.2/stan/lib/stan_math/lib/tbb\"   stan/lib/stan_math/lib/sundials_6.0.0/lib/libsundials_nvecserial.a stan/lib/stan_math/lib/sundials_6.0.0/lib/libsundials_cvodes.a stan/lib/stan_math/lib/sundials_6.0.0/lib/libsundials_idas.a stan/lib/stan_math/lib/sundials_6.0.0/lib/libsundials_kinsol.a  stan/lib/stan_math/lib/tbb/libtbb.so.2 -o /home/runner/work/cmdstanpy/cmdstanpy/docsrc/examples/bernoulli_external\n",
      "rm -f /home/runner/work/cmdstanpy/cmdstanpy/docsrc/examples/bernoulli_external.o\n",
      "make[2]: Leaving directory '/home/runner/.cmdstan/cmdstan-2.29.2'\n",
      "\n"
     ]
    }
   ],
   "source": [
    "model_external.compile(user_header='make_odds.hpp')"
   ]
  },
  {
   "cell_type": "markdown",
   "metadata": {},
   "source": [
    "We can then run this model and inspect the output"
   ]
  },
  {
   "cell_type": "code",
   "execution_count": 6,
   "metadata": {
    "execution": {
     "iopub.execute_input": "2022-06-30T20:25:39.417942Z",
     "iopub.status.busy": "2022-06-30T20:25:39.417326Z",
     "iopub.status.idle": "2022-06-30T20:25:40.184800Z",
     "shell.execute_reply": "2022-06-30T20:25:40.184098Z"
    }
   },
   "outputs": [
    {
     "name": "stderr",
     "output_type": "stream",
     "text": [
      "20:25:39 - cmdstanpy - INFO - CmdStan start processing\n"
     ]
    },
    {
     "name": "stderr",
     "output_type": "stream",
     "text": [
      "\r",
      "chain 1 |\u001b[33m          \u001b[0m| 00:00 Status"
     ]
    },
    {
     "name": "stderr",
     "output_type": "stream",
     "text": [
      "\n"
     ]
    },
    {
     "name": "stderr",
     "output_type": "stream",
     "text": [
      "\r",
      "chain 2 |\u001b[33m          \u001b[0m| 00:00 Status"
     ]
    },
    {
     "name": "stderr",
     "output_type": "stream",
     "text": [
      "\u001b[A"
     ]
    },
    {
     "name": "stderr",
     "output_type": "stream",
     "text": [
      "\n",
      "\n"
     ]
    },
    {
     "name": "stderr",
     "output_type": "stream",
     "text": [
      "\r",
      "chain 3 |\u001b[33m          \u001b[0m| 00:00 Status"
     ]
    },
    {
     "name": "stderr",
     "output_type": "stream",
     "text": [
      "\u001b[A\u001b[A"
     ]
    },
    {
     "name": "stderr",
     "output_type": "stream",
     "text": [
      "\n",
      "\n",
      "\n"
     ]
    },
    {
     "name": "stderr",
     "output_type": "stream",
     "text": [
      "\r",
      "chain 4 |\u001b[33m          \u001b[0m| 00:00 Status"
     ]
    },
    {
     "name": "stderr",
     "output_type": "stream",
     "text": [
      "\u001b[A\u001b[A\u001b[A"
     ]
    },
    {
     "name": "stderr",
     "output_type": "stream",
     "text": [
      "\r",
      "chain 1 |\u001b[34m██████████\u001b[0m| 00:00 Sampling completed"
     ]
    },
    {
     "name": "stderr",
     "output_type": "stream",
     "text": [
      "\n",
      "\r",
      "chain 2 |\u001b[34m██████████\u001b[0m| 00:00 Sampling completed"
     ]
    },
    {
     "name": "stderr",
     "output_type": "stream",
     "text": [
      "\n",
      "\r",
      "chain 3 |\u001b[34m██████████\u001b[0m| 00:00 Sampling completed"
     ]
    },
    {
     "name": "stderr",
     "output_type": "stream",
     "text": [
      "\n",
      "\r",
      "chain 4 |\u001b[34m██████████\u001b[0m| 00:00 Sampling completed"
     ]
    },
    {
     "name": "stdout",
     "output_type": "stream",
     "text": [
      "                                                                                "
     ]
    },
    {
     "name": "stdout",
     "output_type": "stream",
     "text": [
      "                                                                                "
     ]
    },
    {
     "name": "stdout",
     "output_type": "stream",
     "text": [
      "                                                                                "
     ]
    },
    {
     "name": "stdout",
     "output_type": "stream",
     "text": [
      "                                                                                "
     ]
    },
    {
     "name": "stderr",
     "output_type": "stream",
     "text": [
      "\n",
      "20:25:39 - cmdstanpy - INFO - CmdStan done processing.\n"
     ]
    },
    {
     "name": "stdout",
     "output_type": "stream",
     "text": [
      "\n"
     ]
    },
    {
     "ename": "ValueError",
     "evalue": "Unknown variable name: odds\nAvailable variables are ",
     "output_type": "error",
     "traceback": [
      "\u001b[0;31m---------------------------------------------------------------------------\u001b[0m",
      "\u001b[0;31mValueError\u001b[0m                                Traceback (most recent call last)",
      "Input \u001b[0;32mIn [6]\u001b[0m, in \u001b[0;36m<cell line: 2>\u001b[0;34m()\u001b[0m\n\u001b[1;32m      1\u001b[0m fit \u001b[38;5;241m=\u001b[39m model_external\u001b[38;5;241m.\u001b[39msample(data\u001b[38;5;241m=\u001b[39m{\u001b[38;5;124m'\u001b[39m\u001b[38;5;124mN\u001b[39m\u001b[38;5;124m'\u001b[39m:\u001b[38;5;241m10\u001b[39m, \u001b[38;5;124m'\u001b[39m\u001b[38;5;124my\u001b[39m\u001b[38;5;124m'\u001b[39m:[\u001b[38;5;241m0\u001b[39m,\u001b[38;5;241m1\u001b[39m,\u001b[38;5;241m0\u001b[39m,\u001b[38;5;241m0\u001b[39m,\u001b[38;5;241m0\u001b[39m,\u001b[38;5;241m0\u001b[39m,\u001b[38;5;241m0\u001b[39m,\u001b[38;5;241m0\u001b[39m,\u001b[38;5;241m0\u001b[39m,\u001b[38;5;241m1\u001b[39m]})\n\u001b[0;32m----> 2\u001b[0m \u001b[43mfit\u001b[49m\u001b[38;5;241;43m.\u001b[39;49m\u001b[43mstan_variable\u001b[49m\u001b[43m(\u001b[49m\u001b[38;5;124;43m'\u001b[39;49m\u001b[38;5;124;43modds\u001b[39;49m\u001b[38;5;124;43m'\u001b[39;49m\u001b[43m)\u001b[49m\n",
      "File \u001b[0;32m~/work/cmdstanpy/cmdstanpy/cmdstanpy/stanfit/mcmc.py:729\u001b[0m, in \u001b[0;36mCmdStanMCMC.stan_variable\u001b[0;34m(self, var, inc_warmup)\u001b[0m\n\u001b[1;32m    687\u001b[0m \u001b[38;5;124;03m\"\"\"\u001b[39;00m\n\u001b[1;32m    688\u001b[0m \u001b[38;5;124;03mReturn a numpy.ndarray which contains the set of draws\u001b[39;00m\n\u001b[1;32m    689\u001b[0m \u001b[38;5;124;03mfor the named Stan program variable.  Flattens the chains,\u001b[39;00m\n\u001b[0;32m   (...)\u001b[0m\n\u001b[1;32m    726\u001b[0m \u001b[38;5;124;03mCmdStanGQ.stan_variable\u001b[39;00m\n\u001b[1;32m    727\u001b[0m \u001b[38;5;124;03m\"\"\"\u001b[39;00m\n\u001b[1;32m    728\u001b[0m \u001b[38;5;28;01mif\u001b[39;00m var \u001b[38;5;129;01mnot\u001b[39;00m \u001b[38;5;129;01min\u001b[39;00m \u001b[38;5;28mself\u001b[39m\u001b[38;5;241m.\u001b[39m_metadata\u001b[38;5;241m.\u001b[39mstan_vars_dims:\n\u001b[0;32m--> 729\u001b[0m     \u001b[38;5;28;01mraise\u001b[39;00m \u001b[38;5;167;01mValueError\u001b[39;00m(\n\u001b[1;32m    730\u001b[0m         \u001b[38;5;124mf\u001b[39m\u001b[38;5;124m'\u001b[39m\u001b[38;5;124mUnknown variable name: \u001b[39m\u001b[38;5;132;01m{\u001b[39;00mvar\u001b[38;5;132;01m}\u001b[39;00m\u001b[38;5;130;01m\\n\u001b[39;00m\u001b[38;5;124m'\u001b[39m\n\u001b[1;32m    731\u001b[0m         \u001b[38;5;124m'\u001b[39m\u001b[38;5;124mAvailable variables are \u001b[39m\u001b[38;5;124m'\u001b[39m\n\u001b[1;32m    732\u001b[0m         \u001b[38;5;241m+\u001b[39m \u001b[38;5;124m\"\u001b[39m\u001b[38;5;124m, \u001b[39m\u001b[38;5;124m\"\u001b[39m\u001b[38;5;241m.\u001b[39mjoin(\u001b[38;5;28mself\u001b[39m\u001b[38;5;241m.\u001b[39m_metadata\u001b[38;5;241m.\u001b[39mstan_vars_dims)\n\u001b[1;32m    733\u001b[0m     )\n\u001b[1;32m    734\u001b[0m \u001b[38;5;28;01mif\u001b[39;00m \u001b[38;5;28mself\u001b[39m\u001b[38;5;241m.\u001b[39m_draws\u001b[38;5;241m.\u001b[39mshape \u001b[38;5;241m==\u001b[39m (\u001b[38;5;241m0\u001b[39m,):\n\u001b[1;32m    735\u001b[0m     \u001b[38;5;28mself\u001b[39m\u001b[38;5;241m.\u001b[39m_assemble_draws()\n",
      "\u001b[0;31mValueError\u001b[0m: Unknown variable name: odds\nAvailable variables are "
     ]
    }
   ],
   "source": [
    "fit = model_external.sample(data={'N':10, 'y':[0,1,0,0,0,0,0,0,0,1]})\n",
    "fit.stan_variable('odds')"
   ]
  },
  {
   "cell_type": "markdown",
   "metadata": {},
   "source": [
    "The contents of this header file are a bit complicated unless you are familiar with the C++ internals of Stan, so they are presented without comment:\n",
    "\n",
    "```c++\n",
    "#include <boost/math/tools/promotion.hpp>\n",
    "#include <ostream>\n",
    "\n",
    "namespace bernoulli_model_namespace {\n",
    "    template <typename T0__>  inline  typename\n",
    "          boost::math::tools::promote_args<T0__>::type  \n",
    "          make_odds(const T0__& theta, std::ostream* pstream__) {\n",
    "            return theta / (1 - theta);  \n",
    "       }\n",
    "}\n",
    "```"
   ]
  }
 ],
 "metadata": {
  "interpreter": {
   "hash": "8765ce46b013071999fc1966b52035a7309a0da7551e066cc0f0fa23e83d4f60"
  },
  "kernelspec": {
   "display_name": "Python 3.9.5 64-bit ('stan': conda)",
   "name": "python3"
  },
  "language_info": {
   "codemirror_mode": {
    "name": "ipython",
    "version": 3
   },
   "file_extension": ".py",
   "mimetype": "text/x-python",
   "name": "python",
   "nbconvert_exporter": "python",
   "pygments_lexer": "ipython3",
   "version": "3.9.13"
  }
 },
 "nbformat": 4,
 "nbformat_minor": 2
}

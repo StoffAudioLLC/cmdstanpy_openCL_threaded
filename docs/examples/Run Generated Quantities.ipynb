{
 "cells": [
  {
   "cell_type": "markdown",
   "metadata": {},
   "source": [
    "#  Generating new quantities of interest.\n",
    "\n",
    "\n",
    "The [generated quantities block](https://mc-stan.org/docs/reference-manual/program-block-generated-quantities.html)\n",
    "computes quantities of interest based on the data,\n",
    "transformed data, parameters, and transformed parameters.\n",
    "It can be used to:\n",
    "\n",
    "-  generate simulated data for model testing by forward sampling\n",
    "-  generate predictions for new data\n",
    "-  calculate posterior event probabilities, including multiple\n",
    "   comparisons, sign tests, etc.\n",
    "-  calculating posterior expectations\n",
    "-  transform parameters for reporting\n",
    "-  apply full Bayesian decision theory\n",
    "-  calculate log likelihoods, deviances, etc. for model comparison"
   ]
  },
  {
   "cell_type": "markdown",
   "metadata": {},
   "source": [
    "## Example:  add posterior predictive checks to `bernoulli.stan`\n",
    "\n",
    "\n",
    "In this example we use the CmdStan example model [bernoulli.stan](https://github.com/stan-dev/cmdstanpy/blob/master/test/data/bernoulli.stan)\n",
    "and data file [bernoulli.data.json](https://github.com/stan-dev/cmdstanpy/blob/master/test/data/bernoulli.data.json) as our existing model and data.\n",
    "\n",
    "We instantiate the model `bernoulli`,\n",
    "as in the \"Hello World\" section\n",
    "of the CmdStanPy [tutorial](https://github.com/stan-dev/cmdstanpy/blob/develop/cmdstanpy_tutorial.ipynb) notebook."
   ]
  },
  {
   "cell_type": "code",
   "execution_count": 1,
   "metadata": {
    "execution": {
     "iopub.execute_input": "2022-06-28T18:33:40.366404Z",
     "iopub.status.busy": "2022-06-28T18:33:40.365861Z",
     "iopub.status.idle": "2022-06-28T18:33:40.753701Z",
     "shell.execute_reply": "2022-06-28T18:33:40.752900Z"
    }
   },
   "outputs": [
    {
     "name": "stderr",
     "output_type": "stream",
     "text": [
      "/opt/hostedtoolcache/Python/3.9.13/x64/lib/python3.9/site-packages/tqdm/auto.py:22: TqdmWarning: IProgress not found. Please update jupyter and ipywidgets. See https://ipywidgets.readthedocs.io/en/stable/user_install.html\n",
      "  from .autonotebook import tqdm as notebook_tqdm\n"
     ]
    },
    {
     "name": "stdout",
     "output_type": "stream",
     "text": [
      "data {\n",
      "  int<lower=0> N;\n",
      "  array[N] int<lower=0,upper=1> y; // or int<lower=0,upper=1> y[N];\n",
      "}\n",
      "parameters {\n",
      "  real<lower=0,upper=1> theta;\n",
      "}\n",
      "model {\n",
      "  theta ~ beta(1,1);  // uniform prior on interval 0,1\n",
      "  y ~ bernoulli(theta);\n",
      "}\n",
      "\n"
     ]
    }
   ],
   "source": [
    "import os\n",
    "from cmdstanpy import cmdstan_path, CmdStanModel, CmdStanMCMC, CmdStanGQ\n",
    "\n",
    "bernoulli_dir = os.path.join(cmdstan_path(), 'examples', 'bernoulli')\n",
    "stan_file = os.path.join(bernoulli_dir, 'bernoulli.stan')\n",
    "data_file = os.path.join(bernoulli_dir, 'bernoulli.data.json')\n",
    "\n",
    "# instantiate, compile bernoulli model\n",
    "model = CmdStanModel(stan_file=stan_file)\n",
    "print(model.code())"
   ]
  },
  {
   "cell_type": "markdown",
   "metadata": {},
   "source": [
    "The input data consists of `N` - the number of bernoulli trials and `y` - the list of observed outcomes.\n",
    "Inspection of the data shows that on average, there is a 20% chance of success for any given Bernoulli trial."
   ]
  },
  {
   "cell_type": "code",
   "execution_count": 2,
   "metadata": {
    "execution": {
     "iopub.execute_input": "2022-06-28T18:33:40.758033Z",
     "iopub.status.busy": "2022-06-28T18:33:40.757341Z",
     "iopub.status.idle": "2022-06-28T18:33:40.771201Z",
     "shell.execute_reply": "2022-06-28T18:33:40.770410Z"
    }
   },
   "outputs": [
    {
     "name": "stdout",
     "output_type": "stream",
     "text": [
      "{'N': 10, 'y': [0, 1, 0, 0, 0, 0, 0, 0, 0, 1]}\n",
      "mean of y: 0.2\n"
     ]
    }
   ],
   "source": [
    "# examine bernoulli data\n",
    "import ujson\n",
    "import statistics\n",
    "with open(data_file,'r') as fp:\n",
    "    data_dict = ujson.load(fp)\n",
    "print(data_dict)\n",
    "print('mean of y: {}'.format(statistics.mean(data_dict['y'])))"
   ]
  },
  {
   "cell_type": "markdown",
   "metadata": {},
   "source": [
    "As in the \"Hello World\" tutorial, we produce a sample from the posterior of the model conditioned on the data:"
   ]
  },
  {
   "cell_type": "code",
   "execution_count": 3,
   "metadata": {
    "execution": {
     "iopub.execute_input": "2022-06-28T18:33:40.774896Z",
     "iopub.status.busy": "2022-06-28T18:33:40.774520Z",
     "iopub.status.idle": "2022-06-28T18:33:40.915184Z",
     "shell.execute_reply": "2022-06-28T18:33:40.914305Z"
    }
   },
   "outputs": [
    {
     "name": "stderr",
     "output_type": "stream",
     "text": [
      "18:33:40 - cmdstanpy - INFO - CmdStan start processing\n"
     ]
    },
    {
     "name": "stderr",
     "output_type": "stream",
     "text": [
      "\r",
      "chain 1 |\u001b[33m          \u001b[0m| 00:00 Status"
     ]
    },
    {
     "name": "stderr",
     "output_type": "stream",
     "text": [
      "\n"
     ]
    },
    {
     "name": "stderr",
     "output_type": "stream",
     "text": [
      "\r",
      "chain 2 |\u001b[33m          \u001b[0m| 00:00 Status"
     ]
    },
    {
     "name": "stderr",
     "output_type": "stream",
     "text": [
      "\u001b[A"
     ]
    },
    {
     "name": "stderr",
     "output_type": "stream",
     "text": [
      "\n",
      "\n"
     ]
    },
    {
     "name": "stderr",
     "output_type": "stream",
     "text": [
      "\r",
      "chain 3 |\u001b[33m          \u001b[0m| 00:00 Status"
     ]
    },
    {
     "name": "stderr",
     "output_type": "stream",
     "text": [
      "\u001b[A\u001b[A"
     ]
    },
    {
     "name": "stderr",
     "output_type": "stream",
     "text": [
      "\n",
      "\n",
      "\n"
     ]
    },
    {
     "name": "stderr",
     "output_type": "stream",
     "text": [
      "\r",
      "chain 4 |\u001b[33m          \u001b[0m| 00:00 Status"
     ]
    },
    {
     "name": "stderr",
     "output_type": "stream",
     "text": [
      "\u001b[A\u001b[A\u001b[A"
     ]
    },
    {
     "name": "stderr",
     "output_type": "stream",
     "text": [
      "\r",
      "chain 1 |\u001b[34m██████████\u001b[0m| 00:00 Sampling completed"
     ]
    },
    {
     "name": "stderr",
     "output_type": "stream",
     "text": [
      "\n",
      "\r",
      "chain 2 |\u001b[34m██████████\u001b[0m| 00:00 Sampling completed"
     ]
    },
    {
     "name": "stderr",
     "output_type": "stream",
     "text": [
      "\n",
      "\r",
      "chain 3 |\u001b[34m██████████\u001b[0m| 00:00 Sampling completed"
     ]
    },
    {
     "name": "stderr",
     "output_type": "stream",
     "text": [
      "\n",
      "\r",
      "chain 4 |\u001b[34m██████████\u001b[0m| 00:00 Sampling completed"
     ]
    },
    {
     "name": "stdout",
     "output_type": "stream",
     "text": [
      "                                                                                "
     ]
    },
    {
     "name": "stdout",
     "output_type": "stream",
     "text": [
      "                                                                                "
     ]
    },
    {
     "name": "stdout",
     "output_type": "stream",
     "text": [
      "                                                                                "
     ]
    },
    {
     "name": "stdout",
     "output_type": "stream",
     "text": [
      "                                                                                "
     ]
    },
    {
     "name": "stderr",
     "output_type": "stream",
     "text": [
      "\n",
      "18:33:40 - cmdstanpy - INFO - CmdStan done processing.\n"
     ]
    },
    {
     "name": "stdout",
     "output_type": "stream",
     "text": [
      "\n"
     ]
    }
   ],
   "source": [
    "# fit the model to the data\n",
    "fit = model.sample(data=data_file)"
   ]
  },
  {
   "cell_type": "markdown",
   "metadata": {},
   "source": [
    "The fitted model produces an estimate of `theta` - the chance of success"
   ]
  },
  {
   "cell_type": "code",
   "execution_count": 4,
   "metadata": {
    "execution": {
     "iopub.execute_input": "2022-06-28T18:33:40.919856Z",
     "iopub.status.busy": "2022-06-28T18:33:40.919154Z",
     "iopub.status.idle": "2022-06-28T18:33:40.994528Z",
     "shell.execute_reply": "2022-06-28T18:33:40.993664Z"
    }
   },
   "outputs": [
    {
     "data": {
      "text/html": [
       "<div>\n",
       "<style scoped>\n",
       "    .dataframe tbody tr th:only-of-type {\n",
       "        vertical-align: middle;\n",
       "    }\n",
       "\n",
       "    .dataframe tbody tr th {\n",
       "        vertical-align: top;\n",
       "    }\n",
       "\n",
       "    .dataframe thead th {\n",
       "        text-align: right;\n",
       "    }\n",
       "</style>\n",
       "<table border=\"1\" class=\"dataframe\">\n",
       "  <thead>\n",
       "    <tr style=\"text-align: right;\">\n",
       "      <th></th>\n",
       "      <th>Mean</th>\n",
       "      <th>MCSE</th>\n",
       "      <th>StdDev</th>\n",
       "      <th>5%</th>\n",
       "      <th>50%</th>\n",
       "      <th>95%</th>\n",
       "      <th>N_Eff</th>\n",
       "      <th>N_Eff/s</th>\n",
       "      <th>R_hat</th>\n",
       "    </tr>\n",
       "    <tr>\n",
       "      <th>name</th>\n",
       "      <th></th>\n",
       "      <th></th>\n",
       "      <th></th>\n",
       "      <th></th>\n",
       "      <th></th>\n",
       "      <th></th>\n",
       "      <th></th>\n",
       "      <th></th>\n",
       "      <th></th>\n",
       "    </tr>\n",
       "  </thead>\n",
       "  <tbody>\n",
       "    <tr>\n",
       "      <th>lp__</th>\n",
       "      <td>-7.311660</td>\n",
       "      <td>0.030574</td>\n",
       "      <td>0.828151</td>\n",
       "      <td>-9.002010</td>\n",
       "      <td>-6.991580</td>\n",
       "      <td>-6.749860</td>\n",
       "      <td>733.673</td>\n",
       "      <td>15949.4</td>\n",
       "      <td>1.00401</td>\n",
       "    </tr>\n",
       "    <tr>\n",
       "      <th>theta</th>\n",
       "      <td>0.251997</td>\n",
       "      <td>0.003632</td>\n",
       "      <td>0.122540</td>\n",
       "      <td>0.073693</td>\n",
       "      <td>0.238158</td>\n",
       "      <td>0.482176</td>\n",
       "      <td>1138.580</td>\n",
       "      <td>24751.8</td>\n",
       "      <td>1.00283</td>\n",
       "    </tr>\n",
       "  </tbody>\n",
       "</table>\n",
       "</div>"
      ],
      "text/plain": [
       "           Mean      MCSE    StdDev        5%       50%       95%     N_Eff  \\\n",
       "name                                                                          \n",
       "lp__  -7.311660  0.030574  0.828151 -9.002010 -6.991580 -6.749860   733.673   \n",
       "theta  0.251997  0.003632  0.122540  0.073693  0.238158  0.482176  1138.580   \n",
       "\n",
       "       N_Eff/s    R_hat  \n",
       "name                     \n",
       "lp__   15949.4  1.00401  \n",
       "theta  24751.8  1.00283  "
      ]
     },
     "execution_count": 4,
     "metadata": {},
     "output_type": "execute_result"
    }
   ],
   "source": [
    "fit.summary()"
   ]
  },
  {
   "cell_type": "markdown",
   "metadata": {},
   "source": [
    "To run a prior predictive check, we add a `generated quantities` block to the model, in which we generate a new data vector `y_rep` using the current estimate of theta.  The resulting model is in file [bernoulli_ppc.stan](https://github.com/stan-dev/cmdstanpy/blob/master/test/data/bernoulli_ppc.stan)"
   ]
  },
  {
   "cell_type": "code",
   "execution_count": 5,
   "metadata": {
    "execution": {
     "iopub.execute_input": "2022-06-28T18:33:40.998410Z",
     "iopub.status.busy": "2022-06-28T18:33:40.997917Z",
     "iopub.status.idle": "2022-06-28T18:33:48.871897Z",
     "shell.execute_reply": "2022-06-28T18:33:48.871007Z"
    }
   },
   "outputs": [
    {
     "name": "stderr",
     "output_type": "stream",
     "text": [
      "18:33:41 - cmdstanpy - INFO - compiling stan file /home/runner/work/cmdstanpy/cmdstanpy/docsrc/examples/bernoulli_ppc.stan to exe file /home/runner/work/cmdstanpy/cmdstanpy/docsrc/examples/bernoulli_ppc\n"
     ]
    },
    {
     "name": "stderr",
     "output_type": "stream",
     "text": [
      "18:33:48 - cmdstanpy - INFO - compiled model executable: /home/runner/work/cmdstanpy/cmdstanpy/docsrc/examples/bernoulli_ppc\n"
     ]
    },
    {
     "name": "stdout",
     "output_type": "stream",
     "text": [
      "data {\n",
      "  int<lower=0> N;\n",
      "  array[N] int<lower=0, upper=1> y;\n",
      "}\n",
      "parameters {\n",
      "  real<lower=0, upper=1> theta;\n",
      "}\n",
      "model {\n",
      "  theta ~ beta(1, 1);\n",
      "  y ~ bernoulli(theta);\n",
      "}\n",
      "generated quantities {\n",
      "  array[N] int y_rep;\n",
      "  for (n in 1 : N) {\n",
      "    y_rep[n] = bernoulli_rng(theta);\n",
      "  }\n",
      "}\n",
      "\n",
      "\n"
     ]
    }
   ],
   "source": [
    "model_ppc = CmdStanModel(stan_file='bernoulli_ppc.stan')\n",
    "print(model_ppc.code())"
   ]
  },
  {
   "cell_type": "markdown",
   "metadata": {},
   "source": [
    "We run the `generate_quantities` method on `bernoulli_ppc` using existing sample `fit` as input.  The `generate_quantities` method takes the values of `theta` in the `fit` sample as the set of draws from the posterior used to generate the corresponsing `y_rep` quantities of interest.\n",
    "\n",
    "The arguments to the `generate_quantities` method are:\n",
    " + `data`  - the data used to fit the model\n",
    " + `mcmc_sample` - either a `CmdStanMCMC` object or a list of stan-csv files\n"
   ]
  },
  {
   "cell_type": "code",
   "execution_count": 6,
   "metadata": {
    "execution": {
     "iopub.execute_input": "2022-06-28T18:33:48.875641Z",
     "iopub.status.busy": "2022-06-28T18:33:48.875227Z",
     "iopub.status.idle": "2022-06-28T18:33:48.977449Z",
     "shell.execute_reply": "2022-06-28T18:33:48.976625Z"
    }
   },
   "outputs": [
    {
     "name": "stderr",
     "output_type": "stream",
     "text": [
      "18:33:48 - cmdstanpy - INFO - Chain [1] start processing\n"
     ]
    },
    {
     "name": "stderr",
     "output_type": "stream",
     "text": [
      "18:33:48 - cmdstanpy - INFO - Chain [1] done processing\n"
     ]
    },
    {
     "name": "stderr",
     "output_type": "stream",
     "text": [
      "18:33:48 - cmdstanpy - INFO - Chain [2] start processing\n"
     ]
    },
    {
     "name": "stderr",
     "output_type": "stream",
     "text": [
      "18:33:48 - cmdstanpy - INFO - Chain [2] done processing\n"
     ]
    },
    {
     "name": "stderr",
     "output_type": "stream",
     "text": [
      "18:33:48 - cmdstanpy - INFO - Chain [3] start processing\n"
     ]
    },
    {
     "name": "stderr",
     "output_type": "stream",
     "text": [
      "18:33:48 - cmdstanpy - INFO - Chain [3] done processing\n"
     ]
    },
    {
     "name": "stderr",
     "output_type": "stream",
     "text": [
      "18:33:48 - cmdstanpy - INFO - Chain [4] start processing\n"
     ]
    },
    {
     "name": "stderr",
     "output_type": "stream",
     "text": [
      "18:33:48 - cmdstanpy - INFO - Chain [4] done processing\n"
     ]
    }
   ],
   "source": [
    "new_quantities = model_ppc.generate_quantities(data=data_file, mcmc_sample=fit)"
   ]
  },
  {
   "cell_type": "markdown",
   "metadata": {},
   "source": [
    "The `generate_quantities` method returns a `CmdStanGQ` object which contains the values for all variables in the generated quantitites block of the program ``bernoulli_ppc.stan``.  Unlike the output from the ``sample`` method, it doesn't contain any information on the joint log probability density, sampler state, or parameters or transformed parameter values.\n",
    "\n",
    "In this example, each draw consists of the N-length array of replicate of the `bernoulli` model's input variable  `y`, which is an N-length array of Bernoulli outcomes."
   ]
  },
  {
   "cell_type": "code",
   "execution_count": 7,
   "metadata": {
    "execution": {
     "iopub.execute_input": "2022-06-28T18:33:48.982516Z",
     "iopub.status.busy": "2022-06-28T18:33:48.981916Z",
     "iopub.status.idle": "2022-06-28T18:33:49.010814Z",
     "shell.execute_reply": "2022-06-28T18:33:49.010003Z"
    }
   },
   "outputs": [
    {
     "name": "stdout",
     "output_type": "stream",
     "text": [
      "(1000, 4, 10) ('y_rep[1]', 'y_rep[2]', 'y_rep[3]', 'y_rep[4]', 'y_rep[5]', 'y_rep[6]', 'y_rep[7]', 'y_rep[8]', 'y_rep[9]', 'y_rep[10]')\n",
      "[[0. 0. 1. 1. 0. 0. 0. 0. 0. 0.]\n",
      " [0. 0. 1. 1. 0. 0. 0. 0. 0. 0.]\n",
      " [0. 0. 1. 1. 0. 0. 0. 0. 0. 0.]\n",
      " [0. 0. 1. 1. 0. 0. 0. 0. 0. 0.]]\n",
      "[[1. 1. 0. 0. 0. 0. 1. 1. 1. 0.]\n",
      " [1. 1. 0. 0. 0. 0. 0. 1. 0. 0.]\n",
      " [0. 1. 0. 0. 0. 0. 0. 1. 0. 0.]\n",
      " [1. 1. 0. 0. 0. 0. 0. 1. 0. 0.]]\n",
      "[[0. 0. 0. 0. 0. 0. 0. 1. 1. 0.]\n",
      " [0. 0. 0. 0. 0. 0. 0. 1. 1. 0.]\n",
      " [0. 0. 0. 0. 0. 0. 0. 1. 1. 0.]\n",
      " [0. 0. 1. 0. 0. 0. 0. 1. 1. 0.]]\n"
     ]
    }
   ],
   "source": [
    "print(new_quantities.draws().shape, new_quantities.column_names)\n",
    "for i in range(3):\n",
    "    print (new_quantities.draws()[i,:])"
   ]
  },
  {
   "cell_type": "markdown",
   "metadata": {},
   "source": [
    "We can also use ``draws_pd(inc_sample=True)`` to get a pandas DataFrame which combines the input drawset with the generated quantities."
   ]
  },
  {
   "cell_type": "code",
   "execution_count": 8,
   "metadata": {
    "execution": {
     "iopub.execute_input": "2022-06-28T18:33:49.015147Z",
     "iopub.status.busy": "2022-06-28T18:33:49.014669Z",
     "iopub.status.idle": "2022-06-28T18:33:49.041716Z",
     "shell.execute_reply": "2022-06-28T18:33:49.040982Z"
    }
   },
   "outputs": [
    {
     "name": "stdout",
     "output_type": "stream",
     "text": [
      "<class 'pandas.core.frame.DataFrame'> (4000, 18)\n"
     ]
    },
    {
     "data": {
      "text/html": [
       "<div>\n",
       "<style scoped>\n",
       "    .dataframe tbody tr th:only-of-type {\n",
       "        vertical-align: middle;\n",
       "    }\n",
       "\n",
       "    .dataframe tbody tr th {\n",
       "        vertical-align: top;\n",
       "    }\n",
       "\n",
       "    .dataframe thead th {\n",
       "        text-align: right;\n",
       "    }\n",
       "</style>\n",
       "<table border=\"1\" class=\"dataframe\">\n",
       "  <thead>\n",
       "    <tr style=\"text-align: right;\">\n",
       "      <th></th>\n",
       "      <th>0</th>\n",
       "      <th>1</th>\n",
       "      <th>2</th>\n",
       "      <th>3</th>\n",
       "      <th>4</th>\n",
       "      <th>5</th>\n",
       "      <th>6</th>\n",
       "      <th>7</th>\n",
       "      <th>8</th>\n",
       "      <th>9</th>\n",
       "      <th>10</th>\n",
       "      <th>11</th>\n",
       "      <th>12</th>\n",
       "      <th>13</th>\n",
       "      <th>14</th>\n",
       "      <th>15</th>\n",
       "      <th>16</th>\n",
       "      <th>17</th>\n",
       "    </tr>\n",
       "  </thead>\n",
       "  <tbody>\n",
       "    <tr>\n",
       "      <th>0</th>\n",
       "      <td>-6.97793</td>\n",
       "      <td>0.293804</td>\n",
       "      <td>1.13785</td>\n",
       "      <td>1.0</td>\n",
       "      <td>1.0</td>\n",
       "      <td>0.0</td>\n",
       "      <td>8.54642</td>\n",
       "      <td>0.340387</td>\n",
       "      <td>0.0</td>\n",
       "      <td>0.0</td>\n",
       "      <td>1.0</td>\n",
       "      <td>1.0</td>\n",
       "      <td>0.0</td>\n",
       "      <td>0.0</td>\n",
       "      <td>0.0</td>\n",
       "      <td>0.0</td>\n",
       "      <td>0.0</td>\n",
       "      <td>0.0</td>\n",
       "    </tr>\n",
       "    <tr>\n",
       "      <th>1</th>\n",
       "      <td>-8.56936</td>\n",
       "      <td>0.495063</td>\n",
       "      <td>1.13785</td>\n",
       "      <td>1.0</td>\n",
       "      <td>1.0</td>\n",
       "      <td>0.0</td>\n",
       "      <td>8.62193</td>\n",
       "      <td>0.520143</td>\n",
       "      <td>1.0</td>\n",
       "      <td>1.0</td>\n",
       "      <td>0.0</td>\n",
       "      <td>0.0</td>\n",
       "      <td>0.0</td>\n",
       "      <td>0.0</td>\n",
       "      <td>1.0</td>\n",
       "      <td>1.0</td>\n",
       "      <td>1.0</td>\n",
       "      <td>0.0</td>\n",
       "    </tr>\n",
       "    <tr>\n",
       "      <th>2</th>\n",
       "      <td>-6.75319</td>\n",
       "      <td>1.000000</td>\n",
       "      <td>1.13785</td>\n",
       "      <td>1.0</td>\n",
       "      <td>3.0</td>\n",
       "      <td>0.0</td>\n",
       "      <td>7.84615</td>\n",
       "      <td>0.262848</td>\n",
       "      <td>0.0</td>\n",
       "      <td>0.0</td>\n",
       "      <td>0.0</td>\n",
       "      <td>0.0</td>\n",
       "      <td>0.0</td>\n",
       "      <td>0.0</td>\n",
       "      <td>0.0</td>\n",
       "      <td>1.0</td>\n",
       "      <td>1.0</td>\n",
       "      <td>0.0</td>\n",
       "    </tr>\n",
       "  </tbody>\n",
       "</table>\n",
       "</div>"
      ],
      "text/plain": [
       "        0         1        2    3    4    5        6         7    8    9   \\\n",
       "0 -6.97793  0.293804  1.13785  1.0  1.0  0.0  8.54642  0.340387  0.0  0.0   \n",
       "1 -8.56936  0.495063  1.13785  1.0  1.0  0.0  8.62193  0.520143  1.0  1.0   \n",
       "2 -6.75319  1.000000  1.13785  1.0  3.0  0.0  7.84615  0.262848  0.0  0.0   \n",
       "\n",
       "    10   11   12   13   14   15   16   17  \n",
       "0  1.0  1.0  0.0  0.0  0.0  0.0  0.0  0.0  \n",
       "1  0.0  0.0  0.0  0.0  1.0  1.0  1.0  0.0  \n",
       "2  0.0  0.0  0.0  0.0  0.0  1.0  1.0  0.0  "
      ]
     },
     "execution_count": 8,
     "metadata": {},
     "output_type": "execute_result"
    }
   ],
   "source": [
    "sample_plus = new_quantities.draws_pd(inc_sample=True)\n",
    "print(type(sample_plus),sample_plus.shape)\n",
    "names = list(sample_plus.columns.values[7:18])\n",
    "sample_plus.iloc[0:3, :]"
   ]
  },
  {
   "cell_type": "markdown",
   "metadata": {},
   "source": [
    "For models as simple as the bernoulli models here, it would be trivial to re-run the sampler and generate a new sample which contains both the estimate of the parameters `theta` as well as `y_rep` values. For models which are difficult to fit, i.e., when producing a sample is computationally expensive, the `generate_quantities` method is preferred."
   ]
  }
 ],
 "metadata": {
  "kernelspec": {
   "display_name": "Python 3",
   "language": "python",
   "name": "python3"
  },
  "language_info": {
   "codemirror_mode": {
    "name": "ipython",
    "version": 3
   },
   "file_extension": ".py",
   "mimetype": "text/x-python",
   "name": "python",
   "nbconvert_exporter": "python",
   "pygments_lexer": "ipython3",
   "version": "3.9.13"
  }
 },
 "nbformat": 4,
 "nbformat_minor": 4
}
